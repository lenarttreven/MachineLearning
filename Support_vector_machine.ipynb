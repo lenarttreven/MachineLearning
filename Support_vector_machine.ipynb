{
 "cells": [
  {
   "cell_type": "code",
   "execution_count": 231,
   "metadata": {
    "collapsed": false
   },
   "outputs": [],
   "source": [
    "import matplotlib.pyplot as plt\n",
    "from matplotlib import style\n",
    "import numpy as np\n",
    "import pandas as pd\n",
    "from cvxpy import *\n",
    "from sklearn.utils import shuffle\n",
    "\n",
    "\n",
    "style.use('ggplot')\n",
    "\n",
    "\n",
    "class SVM():\n",
    "    def __init__(self, data, kernel=\"linear\", degree=1, g=100, k1=1, k2=1, C=50, method='ovo'):\n",
    "        self.K = self.make_k(kernel, degree, g, k1, k2)\n",
    "        self.kernel = kernel\n",
    "        self.degree = degree\n",
    "        self.g = g\n",
    "        self.k1 = k1\n",
    "        self.k2 = k2\n",
    "        self.C = C\n",
    "        self.method = method\n",
    "        self.myfit = self.make_fit()\n",
    "        self.mypredict = self.make_predict()\n",
    "        self.prepare_data(data)\n",
    "        self.data = data.copy()\n",
    "        self.normalized_data = normalize_df(data)\n",
    "        self.maximum = np.array(self.data[self.data.columns.difference(['razred'])].max())\n",
    "        self.minimum = np.array(self.data[self.data.columns.difference(['razred'])].min())\n",
    "     \n",
    "    def make_k(self, kernel, degree=1, g=100, k1=1, k2=1): \n",
    "        if kernel == 'linear':\n",
    "            def jedro(x1, x2):\n",
    "                return np.dot(x1, x2)\n",
    "            return jedro\n",
    "        elif kernel == 'polynomial':\n",
    "            def jedro(x1, x2):\n",
    "                return (1 + np.dot(x1, x2)) ** degree\n",
    "            return jedro\n",
    "        elif kernel == 'radial':\n",
    "            def jedro(x1, x2):\n",
    "                return np.exp(-g * np.linalg.norm(x1 - x2, axis=-1))\n",
    "            return jedro\n",
    "        elif kernel == 'neural':\n",
    "            def jedro(x1, x2):\n",
    "                return np.tanh(k1 * np.dot(x1, x2)+ k2) \n",
    "            return jedro\n",
    "\n",
    "    \n",
    "    def make_fit(self): \n",
    "        if self.method == 'ovo':\n",
    "            def fit_one_versus_one(dataset=None):\n",
    "                if dataset is None:\n",
    "                    dataset = self.normalized_data\n",
    "                napovedi = dict()\n",
    "                for i in range(self.stevilo_razredov):\n",
    "                    for j in range(i):\n",
    "                        data = dataset.loc[dataset['razred'].isin([i, j])]\n",
    "                        X = np.array(data.drop(['razred'], 1)).astype(np.float)\n",
    "                        y = np.array(data['razred']).astype(np.float)\n",
    "                        y[y == j] = -1\n",
    "                        y[y == i] = 1\n",
    "                        a, b, indeksi = self._fit(X, y)\n",
    "                        napovedi[(i,j)] = (a, b, indeksi)\n",
    "                return napovedi\n",
    "            return fit_one_versus_one\n",
    "        elif self.method == 'ova':\n",
    "            def fit_one_versus_all(dataset=None):\n",
    "                if dataset is None:\n",
    "                    dataset = self.normalized_data\n",
    "                napovedi = dict()\n",
    "                for i in range(self.stevilo_razredov):\n",
    "                    X_train = np.array(dataset.drop(['razred'], 1)).astype(np.float)\n",
    "                    y_train = np.array(dataset['razred']).astype(np.float)\n",
    "                    y_train[y_train != i] = -1\n",
    "                    y_train[y_train == i] = 1\n",
    "                    napovedi[i] = self._fit(X_train, y_train)\n",
    "                return napovedi\n",
    "            return fit_one_versus_all\n",
    "        else: \n",
    "            raise ValueError('No such method is known. Try ovo (one versus one) or ova (one versus all)')\n",
    "            \n",
    "    \n",
    "    def make_predict(self):\n",
    "        if self.method == 'ovo':\n",
    "            def predict_one_versus_one(X, napovedi, dataset=None):\n",
    "                if dataset is None:\n",
    "                    dataset = self.normalized_data\n",
    "                glasovi = np.zeros(self.stevilo_razredov)\n",
    "                for i in range(self.stevilo_razredov):\n",
    "                    for j in range(i):\n",
    "                        data = dataset.loc[dataset['razred'].isin([i, j])]\n",
    "                        X_data = np.array(data.drop(['razred'], 1)).astype(np.float)\n",
    "                        y_data = np.array(data['razred']).astype(np.float)\n",
    "                        y_data[y_data == j] = -1\n",
    "                        y_data[y_data == i] = 1\n",
    "                        glas = self._predict(X, X_data, y_data, *napovedi[(i,j)])\n",
    "                        if glas == 1:\n",
    "                            glasovi[i] += 1\n",
    "                        else:\n",
    "                            glasovi[j] += 1\n",
    "                return np.argmax(glasovi)\n",
    "            return predict_one_versus_one\n",
    "        elif self.method == 'ova':\n",
    "                def predict_one_versus_all(X, napovedi, dataset=None):\n",
    "                    if dataset is None:\n",
    "                        dataset = self.normalized_data\n",
    "                    glasovi = np.zeros(self.stevilo_razredov)\n",
    "                    for i in range(self.stevilo_razredov):\n",
    "                        X_data = np.array(dataset.drop(['razred'], 1)).astype(np.float)\n",
    "                        y_data = np.array(dataset['razred']).astype(np.float)\n",
    "                        y_data[y_data != i] = -1\n",
    "                        y_data[y_data == i] = 1\n",
    "                        glasovi[i] = self.classifier(X, X_data, y_data, *napovedi[i])\n",
    "                    return np.argmax(glasovi)\n",
    "                return predict_one_versus_all\n",
    "    \n",
    "\n",
    "    \n",
    "    def prepare_data(self, df):\n",
    "        self.stevilo_razredov = df.razred.nunique()\n",
    "        self.to_indeks = dict()\n",
    "        self.to_name = dict()\n",
    "        for indeks, name in enumerate(df.razred.unique()):\n",
    "            self.to_indeks[name] = indeks\n",
    "            self.to_name[indeks] = name\n",
    "        df.replace(self.to_indeks, inplace=True)\n",
    "                      \n",
    "    \n",
    "    def fit(self):\n",
    "        self.napovedi = self.myfit()\n",
    "\n",
    "       \n",
    "    def cross_validate(self, k=10):\n",
    "        self.split_data = split_data(self.data, k)\n",
    "        results = []\n",
    "        tests = []\n",
    "        for i in range(k):\n",
    "            test = self.split_data[i]\n",
    "            train = pd.concat([df for num, df in enumerate(self.split_data) if not num == i])\n",
    "            maximum = np.array(train[train.columns.difference(['razred'])].max())\n",
    "            minimum = np.array(train[train.columns.difference(['razred'])].min())\n",
    "            train = normalize_df(train)\n",
    "            test_X = np.array(test.drop(['razred'], 1)).astype(np.float)\n",
    "            test_y = np.array(test['razred']).astype(np.float)\n",
    "            test_X = (test_X - minimum) / (maximum - minimum)\n",
    "            napovedi = self.myfit(dataset=train)\n",
    "            accuracy = self.test(test_X, test_y, napovedi, train)\n",
    "            results.append((napovedi, accuracy))\n",
    "            tests.append(accuracy)\n",
    "        self.results = results\n",
    "        self.accuracy_test = np.array(tests)\n",
    "        self.accuracy = np.mean(self.accuracy_test)\n",
    "           \n",
    "    def test(self, X, y, napovedi, dataset):\n",
    "        all_instances = 0\n",
    "        correct_instances = 0\n",
    "        for index, instance in enumerate(X):\n",
    "            all_instances += 1\n",
    "            if self.mypredict(instance, napovedi, dataset=dataset) == y[index]:\n",
    "                correct_instances += 1\n",
    "        accuracy = correct_instances/all_instances\n",
    "        return accuracy\n",
    "          \n",
    "    def predict(self, X, df, ydf, a, b):\n",
    "        X = (X - self.minimum) / (self.maximum - self.minimum)\n",
    "        return self._predict(X, df, ydf, a, b)\n",
    "    \n",
    "    def _predict(self, X, df, ydf, a, b, indeksi):\n",
    "        return np.sign(self.classifier(X, df, ydf, a, b, indeksi))\n",
    "    \n",
    "    \n",
    "    def posplosen_skalarni_produkt(self, x_j, X, y, alpha, indeksi):\n",
    "        rezultat = 0\n",
    "        for i in indeksi: \n",
    "            rezultat += alpha[i] * y[i] * self.K(x_j, X[i])\n",
    "        return rezultat\n",
    "        \n",
    "    \n",
    "    def find_support_vectors(self, alpha,X, y, odpad= 10 ** (-5), odstopanje=0.99):\n",
    "        a = np.amax(alpha)\n",
    "        #poiščemo indkse, za katere so X[i] podporni vektorji\n",
    "        indeksi = []\n",
    "        for i in range(len(alpha)):\n",
    "            if alpha[i]/a >= odpad:\n",
    "                indeksi.append(i)\n",
    "        #sedaj določimo b, ki ga potrebujemo za napoved.\n",
    "        #B je vektor, ki ga bomo polnili z različnimi b-ji nato pa izračunalil njigevo povprečje\n",
    "        B = []\n",
    "        for i in indeksi:\n",
    "            if alpha[i] < self.C * odstopanje:\n",
    "                B.append(y[i] - self.posplosen_skalarni_produkt(X[i], X, y, alpha, indeksi))\n",
    "        \n",
    "        b = np.mean(B)\n",
    "        return (b, indeksi)\n",
    "         \n",
    "        \n",
    "    def classifier(self, X, Xdf, ydf, a, b, indeksi):\n",
    "        result = self.posplosen_skalarni_produkt(X, Xdf, ydf, a, indeksi)\n",
    "        return result + b\n",
    "    \n",
    "\n",
    "    \n",
    "    def visualize(self):\n",
    "        if len(self.data.columns) != 3:\n",
    "            return 'Number of attribute dimensions is not 2'\n",
    "        self.fig = plt.figure()\n",
    "        self.ax = self.fig.add_subplot(1,1,1)\n",
    "        df = self.normalized_data\n",
    "        \n",
    "        #narišemo vse različne razrede kot scatter graf:\n",
    "        seznam_razredov = df.razred.unique()\n",
    "        x_stolpec, y_stolpec = df.columns.difference(['razred'])\n",
    "\n",
    "        n = len(seznam_razredov)       \n",
    "        color=iter(plt.cm.rainbow(np.linspace(0,1,n)))\n",
    "        \n",
    "        \n",
    "        for razred in seznam_razredov:\n",
    "            data = df.loc[df['razred'] == razred]\n",
    "            c=next(color)\n",
    "            self.ax.scatter(data[x_stolpec], data[y_stolpec], c=c)\n",
    "           \n",
    "        \n",
    "        #narišemo vse meje med posameznimi razredi:\n",
    "        for i in range(self.stevilo_razredov):\n",
    "            for j in range(i):\n",
    "                data = self.normalized_data.loc[self.normalized_data['razred'].isin([i, j])]\n",
    "                data = self.normalized_data.loc[self.normalized_data['razred'].isin([i, j])]\n",
    "                Xdf = np.array(data.drop(['razred'], 1)).astype(np.float)\n",
    "                ydf = np.array(data['razred']).astype(np.float)\n",
    "                ydf[ydf != i] = -1\n",
    "                ydf[ydf == i] = 1\n",
    "                \n",
    "                h = .01  # step size in the mesh\n",
    "                # create a mesh to plot in\n",
    "                x_min, x_max = -0.2, 1.2\n",
    "                y_min, y_max = -0.2, 1.2\n",
    "                xx, yy = np.meshgrid(np.arange(x_min, x_max, h), np.arange(y_min, y_max, h))\n",
    "\n",
    "                # Plot the decision boundary. For that, we will assign a color to each\n",
    "                # point in the mesh [x_min, m_max]x[y_min, y_max].\n",
    "                Z = self.classifier(np.c_[xx.ravel(), yy.ravel()], Xdf, ydf, *self.napovedi[(i,j)])\n",
    "\n",
    "                # Put the result into a color plot\n",
    "                Z = Z.reshape(xx.shape)\n",
    "                plt.contour(xx, yy, Z, levels=[-1 , 0, 1], colors=('grey', 'black', 'grey'), linestyles=('dashed', 'solid', 'dashed'))\n",
    "               \n",
    "\n",
    "        plt.savefig('sample.pdf')\n",
    "        plt.show()\n",
    "\n",
    "        \n",
    "    \n",
    "        \n",
    "    def _fit(self, X, y):\n",
    "        n = len(X)\n",
    "        m = len(X[0])\n",
    "    \n",
    "        a = Variable(n)\n",
    "\n",
    "        # we have to generate matrix from X and y\n",
    "        # we create matrix based on rigth kernel  \n",
    "        A = np.zeros(shape=(n,n))\n",
    "        for i in range(n):\n",
    "            for j in range(n):\n",
    "                A[i][j] = self.K(X[i], X[j])\n",
    "\n",
    "        obj = Maximize(sum_entries(a) - 1/2 * quad_form(a, np.dot(np.dot(np.diag(y), A), np.diag(y))))\n",
    "\n",
    "        constraints = [a >= 0,  a <= self.C, a.T * y == 0]\n",
    "        \n",
    "        prob = Problem(obj, constraints)\n",
    "        prob.solve()\n",
    "\n",
    "        a = np.squeeze(np.asarray(a.value))\n",
    "        b, indeksi = self.find_support_vectors(a, X, y, odpad=10**(-5), odstopanje=0.99)\n",
    "        \n",
    "        return (a, b, indeksi)\n",
    "        \n",
    "        \n",
    "\n",
    "def normalize_df(df):\n",
    "    df[df.columns.difference(['razred'])] = df[df.columns.difference(['razred'])].apply(lambda x: (x - x.min()) / (x.max() - x.min()))\n",
    "    return df    \n",
    "    \n",
    "def normalize_arr(X):\n",
    "    X_normed = (X - X.min(0)) / X.ptp(0)\n",
    "    return X_normed\n",
    "    \n",
    "def split_data(data, k=10):\n",
    "    '''\n",
    "    :param data:\n",
    "    :param k:\n",
    "    :return:\n",
    "    '''\n",
    "    data = shuffle(data)\n",
    "    data.reset_index(drop=True,inplace=True)\n",
    "    split_data = partition(data, k)\n",
    "    return split_data\n",
    "        \n",
    "def partition(lst, n):\n",
    "    '''\n",
    "    :param lst: array of elemnts\n",
    "    :param n: number of partitions\n",
    "    :return: array partitioned into n arrays\n",
    "    '''\n",
    "    division = len(lst) / n\n",
    "    return [lst[round(division * i):round(division * (i + 1))] for i in range(n)]\n"
   ]
  },
  {
   "cell_type": "code",
   "execution_count": 232,
   "metadata": {
    "collapsed": false
   },
   "outputs": [
    {
     "data": {
      "text/html": [
       "<div>\n",
       "<table border=\"1\" class=\"dataframe\">\n",
       "  <thead>\n",
       "    <tr style=\"text-align: right;\">\n",
       "      <th></th>\n",
       "      <th>dolzina_casnega_lista</th>\n",
       "      <th>sirina_casnega_lista</th>\n",
       "      <th>razred</th>\n",
       "    </tr>\n",
       "  </thead>\n",
       "  <tbody>\n",
       "    <tr>\n",
       "      <th>0</th>\n",
       "      <td>6.7</td>\n",
       "      <td>3.1</td>\n",
       "      <td>Iris-versicolor</td>\n",
       "    </tr>\n",
       "    <tr>\n",
       "      <th>1</th>\n",
       "      <td>6.4</td>\n",
       "      <td>3.1</td>\n",
       "      <td>Iris-virginica</td>\n",
       "    </tr>\n",
       "    <tr>\n",
       "      <th>2</th>\n",
       "      <td>4.6</td>\n",
       "      <td>3.4</td>\n",
       "      <td>Iris-setosa</td>\n",
       "    </tr>\n",
       "    <tr>\n",
       "      <th>3</th>\n",
       "      <td>6.0</td>\n",
       "      <td>3.4</td>\n",
       "      <td>Iris-versicolor</td>\n",
       "    </tr>\n",
       "    <tr>\n",
       "      <th>4</th>\n",
       "      <td>6.4</td>\n",
       "      <td>2.9</td>\n",
       "      <td>Iris-versicolor</td>\n",
       "    </tr>\n",
       "    <tr>\n",
       "      <th>5</th>\n",
       "      <td>5.8</td>\n",
       "      <td>2.7</td>\n",
       "      <td>Iris-versicolor</td>\n",
       "    </tr>\n",
       "    <tr>\n",
       "      <th>6</th>\n",
       "      <td>5.5</td>\n",
       "      <td>2.4</td>\n",
       "      <td>Iris-versicolor</td>\n",
       "    </tr>\n",
       "    <tr>\n",
       "      <th>7</th>\n",
       "      <td>4.8</td>\n",
       "      <td>3.4</td>\n",
       "      <td>Iris-setosa</td>\n",
       "    </tr>\n",
       "    <tr>\n",
       "      <th>8</th>\n",
       "      <td>5.5</td>\n",
       "      <td>2.3</td>\n",
       "      <td>Iris-versicolor</td>\n",
       "    </tr>\n",
       "    <tr>\n",
       "      <th>9</th>\n",
       "      <td>5.6</td>\n",
       "      <td>2.5</td>\n",
       "      <td>Iris-versicolor</td>\n",
       "    </tr>\n",
       "  </tbody>\n",
       "</table>\n",
       "</div>"
      ],
      "text/plain": [
       "   dolzina_casnega_lista  sirina_casnega_lista           razred\n",
       "0                    6.7                   3.1  Iris-versicolor\n",
       "1                    6.4                   3.1   Iris-virginica\n",
       "2                    4.6                   3.4      Iris-setosa\n",
       "3                    6.0                   3.4  Iris-versicolor\n",
       "4                    6.4                   2.9  Iris-versicolor\n",
       "5                    5.8                   2.7  Iris-versicolor\n",
       "6                    5.5                   2.4  Iris-versicolor\n",
       "7                    4.8                   3.4      Iris-setosa\n",
       "8                    5.5                   2.3  Iris-versicolor\n",
       "9                    5.6                   2.5  Iris-versicolor"
      ]
     },
     "execution_count": 232,
     "metadata": {},
     "output_type": "execute_result"
    }
   ],
   "source": [
    "df = pd.read_csv('bezdekIris.txt', sep=\",\", header=None)\n",
    "df.columns = ['dolzina_casnega_lista', 'sirina_casnega_lista', 'dolzina_vencnega_lista', 'sirina_vencnega_lista', 'razred' ]\n",
    "df = shuffle(df)\n",
    "df.reset_index(drop=True,inplace=True)\n",
    "df.reset_index(drop=True,inplace=True)\n",
    "df.drop(['dolzina_vencnega_lista', 'sirina_vencnega_lista'], 1, inplace=True)\n",
    "#df = df[df.razred != 'Iris-versicolor']\n",
    "df[:10]"
   ]
  },
  {
   "cell_type": "code",
   "execution_count": 233,
   "metadata": {
    "collapsed": false
   },
   "outputs": [],
   "source": [
    "#df = df[df.razred != 'Iris-virginica']\n",
    "#df.replace({'Iris-setosa': 1, 'Iris-versicolor': -1,}, inplace=True)\n",
    "#df.drop(['dolzina_vencnega_lista', 'sirina_vencnega_lista'], 1, inplace=True)\n",
    "#df.reset_index()\n",
    "#df[:10]\n",
    "clf = SVM(df, kernel='polynomial', degree= 5, g=0.01, C=10, method='ovo')\n",
    "clf.fit()"
   ]
  },
  {
   "cell_type": "code",
   "execution_count": 234,
   "metadata": {
    "collapsed": false
   },
   "outputs": [
    {
     "data": {
      "text/plain": [
       "{(1, 0): (array([  1.00000000e+01,   1.00000000e+01,   1.00000000e+01,\n",
       "           1.00000000e+01,   9.99999999e+00,   2.25265080e-09,\n",
       "           2.12951806e-09,   3.46219621e-09,   2.09707429e-09,\n",
       "           1.00000000e+01,   1.00000000e+01,   1.00000000e+01,\n",
       "           1.00000000e+01,   9.16083995e-10,   1.00000000e+01,\n",
       "           1.00000000e+01,   1.00000000e+01,   1.00000000e+01,\n",
       "           1.13555999e-09,   1.00000000e+01,   1.00000000e+01,\n",
       "           1.00000000e+01,   1.00000000e+01,   5.84653797e-09,\n",
       "           5.54843728e-02,   7.04680845e+00,   3.06420109e-09,\n",
       "           1.00000000e+01,   1.00102373e-09,   1.00000000e+01,\n",
       "           7.58579265e-11,   1.00000000e+01,   1.08693039e-08,\n",
       "           4.87313822e-09,   9.99999998e+00,   1.00000000e+01,\n",
       "           5.84653797e-09,   1.00000000e+01,   9.99999999e+00,\n",
       "           1.00000000e+01,   2.36112200e-09,   1.00000000e+01,\n",
       "           1.00000000e+01,   7.76733275e+00,   1.00000000e+01,\n",
       "           9.82807353e-10,   5.54843731e-02,   1.00000000e+01,\n",
       "           2.25265080e-09,   1.00000000e+01,   7.39643738e-11,\n",
       "           1.00000000e+01,   1.00000000e+01,   1.09178881e-08,\n",
       "           1.00000000e+01,   8.91703343e-10,   1.00000000e+01,\n",
       "           9.99999998e+00,   1.00000000e+01,   2.46220148e-09,\n",
       "           1.00000000e+01,   1.00000000e+01,   1.13088824e-09,\n",
       "           1.00000000e+01,   1.00000000e+01,   7.02920333e-09,\n",
       "           1.00000000e+01,   2.32400268e-10,   1.00000000e+01,\n",
       "           1.00000000e+01,   1.29291708e-09,   9.74263262e-09,\n",
       "           1.00000000e+01,   1.00000000e+01,   1.00000000e+01,\n",
       "           1.00000000e+01,   1.00000000e+01,   1.00000000e+01,\n",
       "           1.00000000e+01,   1.00000000e+01,   7.04680828e+00,\n",
       "           2.93427310e-09,   1.00000000e+01,   7.44868566e-09,\n",
       "           1.00000000e+01,   1.00000000e+01,   1.03871911e-08,\n",
       "           1.00000000e+01,   1.00000000e+01,   1.00000000e+01,\n",
       "           1.00000000e+01,   9.99999999e+00,   1.00000000e+01,\n",
       "           1.09574409e-09,   1.00000000e+01,   1.00000000e+01,\n",
       "           1.09178881e-08,   1.83866910e-09,   1.74998068e+00,\n",
       "           4.52179798e-09]),\n",
       "  -1.3803603763467327,\n",
       "  [0,\n",
       "   1,\n",
       "   2,\n",
       "   3,\n",
       "   4,\n",
       "   9,\n",
       "   10,\n",
       "   11,\n",
       "   12,\n",
       "   14,\n",
       "   15,\n",
       "   16,\n",
       "   17,\n",
       "   19,\n",
       "   20,\n",
       "   21,\n",
       "   22,\n",
       "   24,\n",
       "   25,\n",
       "   27,\n",
       "   29,\n",
       "   31,\n",
       "   34,\n",
       "   35,\n",
       "   37,\n",
       "   38,\n",
       "   39,\n",
       "   41,\n",
       "   42,\n",
       "   43,\n",
       "   44,\n",
       "   46,\n",
       "   47,\n",
       "   49,\n",
       "   51,\n",
       "   52,\n",
       "   54,\n",
       "   56,\n",
       "   57,\n",
       "   58,\n",
       "   60,\n",
       "   61,\n",
       "   63,\n",
       "   64,\n",
       "   66,\n",
       "   68,\n",
       "   69,\n",
       "   72,\n",
       "   73,\n",
       "   74,\n",
       "   75,\n",
       "   76,\n",
       "   77,\n",
       "   78,\n",
       "   79,\n",
       "   80,\n",
       "   82,\n",
       "   84,\n",
       "   85,\n",
       "   87,\n",
       "   88,\n",
       "   89,\n",
       "   90,\n",
       "   91,\n",
       "   92,\n",
       "   94,\n",
       "   95,\n",
       "   98]),\n",
       " (2, 0): (array([ -9.47197979e-12,   7.07701650e-13,   2.38589307e-11,\n",
       "          -6.75236620e-12,   6.05684850e-12,   1.83606805e-11,\n",
       "           6.09546744e-12,   1.64042982e-11,   1.31182569e-11,\n",
       "           1.67169712e-11,  -1.11299673e-11,  -5.40471898e-12,\n",
       "          -1.16917415e-11,  -5.35071221e-13,   1.58644602e-11,\n",
       "          -1.07464457e-11,   8.85711767e-12,   1.67169712e-11,\n",
       "          -6.60754667e-12,   1.88901688e+00,   5.49356681e-11,\n",
       "           1.00000000e+01,   1.40577350e-11,  -2.14184261e-12,\n",
       "           8.41037610e-12,   2.72337176e-11,   9.97030174e-10,\n",
       "           1.42181956e-11,   4.82729980e-11,   4.70172141e-12,\n",
       "           3.10009888e-11,   8.32969521e-12,   1.32417653e-11,\n",
       "           1.26212285e+00,   6.91163385e-11,   1.40577350e-11,\n",
       "          -7.35415046e-12,   6.56872066e-11,   8.52892503e-13,\n",
       "           2.63961901e-11,  -8.20265667e-12,   2.11983787e-11,\n",
       "           2.82388703e-12,  -2.35169964e-12,   2.82500681e-13,\n",
       "          -4.96111382e-12,   6.91163385e-11,   1.00000000e+01,\n",
       "           1.83606805e-11,  -4.37175480e-12,  -7.64187273e-12,\n",
       "           4.93276747e-11,   1.92462733e-11,   6.08972081e-11,\n",
       "           1.27434599e-12,   3.76457048e-11,  -1.29114844e-12,\n",
       "           1.88261516e-11,   1.00000000e+01,   2.54407687e-11,\n",
       "          -3.51158562e-12,  -8.99193911e-12,   6.35228759e-01,\n",
       "          -1.44071335e-12,   3.34161637e-11,  -2.14184261e-12,\n",
       "           8.32969521e-12,  -2.20965882e-12,   9.34924177e-12,\n",
       "           1.53597888e-12,   1.72453929e-11,   1.89351396e-10,\n",
       "           9.15428193e-12,  -9.47197979e-12,   1.22872024e-11,\n",
       "          -8.75642402e-12,   1.61051868e-11,  -9.70462002e-12,\n",
       "          -1.64138197e-13,  -2.20965882e-12,   1.42181956e-11,\n",
       "           1.42992856e-11,  -2.20965882e-12,   7.65549047e-12,\n",
       "           4.52995853e-11,   1.26212279e+00,   6.05684850e-12,\n",
       "           2.33737192e-11,   1.59935335e-09,   3.16394819e-12,\n",
       "           6.09546744e-12,   1.42992856e-11,   6.56872066e-11,\n",
       "           1.71263463e-10,  -6.47553397e-12,  -6.18456797e-12,\n",
       "           4.93276747e-11,   9.99999999e+00,   8.52892503e-13,\n",
       "           1.89950221e-11]),\n",
       "  0.86095634348539596,\n",
       "  [19, 21, 33, 47, 58, 62, 85, 97]),\n",
       " (2, 1): (array([  1.70808924e-11,   1.99397802e-11,   2.93691799e-11,\n",
       "          -4.67521592e-12,   4.82302647e-11,  -1.01753402e-12,\n",
       "           4.68430220e-11,   3.42062223e-11,   3.41917974e-11,\n",
       "           4.82302647e-11,   1.11313695e-11,   1.15001504e-10,\n",
       "           1.00435860e-10,   5.59121416e+00,   3.67627978e-12,\n",
       "           4.35918413e-11,   1.25877323e-11,   3.26046150e-11,\n",
       "           8.62810024e-12,   6.70604648e-11,   2.45855228e-12,\n",
       "           2.27045065e-09,  -1.43688057e-12,   1.25877323e-11,\n",
       "           1.04635141e-10,  -4.20504471e-12,   8.15673128e-11,\n",
       "          -3.29164822e-12,   2.56607842e-11,  -3.08729351e-12,\n",
       "          -2.36408839e-12,   7.32338744e-11,   8.15673128e-11,\n",
       "           3.33632347e-11,   8.62810024e-12,   4.14628852e-11,\n",
       "           3.46846874e-02,   1.31321452e-10,   4.35918413e-11,\n",
       "           4.66417212e-12,   9.94651547e-11,   1.28895784e-10,\n",
       "           1.94962655e-11,   1.82749436e-11,   2.35713416e-11,\n",
       "           1.56415249e-11,   1.90940154e-11,   1.31321452e-10,\n",
       "           2.45855228e-12,   1.44004236e-11,   2.22814514e-11,\n",
       "           1.09461522e-11,  -4.57981944e-12,   1.43952770e-11,\n",
       "           3.01758283e-12,   1.67390681e-11,   1.18363316e-11,\n",
       "           5.02513783e-11,   1.23329161e-10,   2.07011175e-11,\n",
       "           8.27290097e-11,  -4.68783996e-12,   7.01922061e+00,\n",
       "           3.01664797e-11,   5.64397551e-12,   1.00952709e-12,\n",
       "           3.33632347e-11,   1.43600012e-11,   3.47847955e-11,\n",
       "           3.92252582e-11,   1.98470604e-11,   9.79032995e-11,\n",
       "           4.62086674e-11,   4.47312708e-11,   7.46948591e-11,\n",
       "           1.43600012e-11,   3.00109733e-12,   2.67980416e+00,\n",
       "          -4.54320950e-13,   4.34496982e-11,   3.92767274e-11,\n",
       "           1.11313695e-11,   4.93504685e-12,   1.43600012e-11,\n",
       "           1.11313695e-11,   1.01647714e-10,   4.27871784e-12,\n",
       "           6.36961330e-12,   3.46846937e-02,   6.03911406e-11,\n",
       "           5.85819473e-11,   2.40301545e-11,   2.93691799e-11,\n",
       "           4.34496982e-11,   1.00000000e+01,   1.28895784e-10,\n",
       "           2.65386990e-10,   6.25901951e-12,   1.94962655e-11,\n",
       "          -4.57041372e-12]), 1.1173035176374779, [13, 36, 62, 77, 88, 94])}"
      ]
     },
     "execution_count": 234,
     "metadata": {},
     "output_type": "execute_result"
    }
   ],
   "source": [
    "#clf.normalized_data[:10]\n",
    "clf.napovedi"
   ]
  },
  {
   "cell_type": "code",
   "execution_count": 236,
   "metadata": {
    "collapsed": false,
    "scrolled": true
   },
   "outputs": [
    {
     "name": "stdout",
     "output_type": "stream",
     "text": [
      "0.7933333333333333\n"
     ]
    }
   ],
   "source": [
    "#clf.fit(C=10)\n",
    "vsi = 0\n",
    "prav = 0\n",
    "A = np.array(clf.normalized_data.drop(['razred'], 1)).astype(np.float)\n",
    "y = np.array(clf.normalized_data['razred']).astype(np.float)\n",
    "for i in range(len(A)):\n",
    "    napoved = clf.mypredict(A[i], clf.napovedi)\n",
    "    if napoved == y[i]:\n",
    "        prav += 1\n",
    "    vsi += 1\n",
    "print(prav/vsi)"
   ]
  },
  {
   "cell_type": "code",
   "execution_count": 237,
   "metadata": {
    "collapsed": false,
    "scrolled": false
   },
   "outputs": [],
   "source": [
    "#clf.test(A, y)"
   ]
  },
  {
   "cell_type": "code",
   "execution_count": 238,
   "metadata": {
    "collapsed": false
   },
   "outputs": [],
   "source": [
    "clf.cross_validate(k=20)"
   ]
  },
  {
   "cell_type": "code",
   "execution_count": 239,
   "metadata": {
    "collapsed": false
   },
   "outputs": [
    {
     "data": {
      "text/plain": [
       "0.74821428571428572"
      ]
     },
     "execution_count": 239,
     "metadata": {},
     "output_type": "execute_result"
    }
   ],
   "source": [
    "clf.accuracy"
   ]
  },
  {
   "cell_type": "code",
   "execution_count": 218,
   "metadata": {
    "collapsed": false
   },
   "outputs": [
    {
     "data": {
      "image/png": "[encoded data removed]",
      "text/plain": [
       "<matplotlib.figure.Figure at 0x121b0ad30>"
      ]
     },
     "metadata": {},
     "output_type": "display_data"
    }
   ],
   "source": [
    "clf.visualize()"
   ]
  },
  {
   "cell_type": "code",
   "execution_count": 163,
   "metadata": {
    "collapsed": false,
    "scrolled": false
   },
   "outputs": [
    {
     "data": {
      "text/html": [
       "<div>\n",
       "<table border=\"1\" class=\"dataframe\">\n",
       "  <thead>\n",
       "    <tr style=\"text-align: right;\">\n",
       "      <th></th>\n",
       "      <th>clump_thickness</th>\n",
       "      <th>unif_cell_size</th>\n",
       "      <th>unif_cell_shape</th>\n",
       "      <th>marg_adhesion</th>\n",
       "      <th>single_epith_cell_size</th>\n",
       "      <th>bare_nuclei</th>\n",
       "      <th>bland_chrom</th>\n",
       "      <th>norm_nucleoli</th>\n",
       "      <th>mitoses</th>\n",
       "      <th>razred</th>\n",
       "    </tr>\n",
       "  </thead>\n",
       "  <tbody>\n",
       "    <tr>\n",
       "      <th>0</th>\n",
       "      <td>5</td>\n",
       "      <td>1</td>\n",
       "      <td>1</td>\n",
       "      <td>1</td>\n",
       "      <td>2</td>\n",
       "      <td>1.0</td>\n",
       "      <td>3</td>\n",
       "      <td>1</td>\n",
       "      <td>1</td>\n",
       "      <td>1</td>\n",
       "    </tr>\n",
       "    <tr>\n",
       "      <th>1</th>\n",
       "      <td>5</td>\n",
       "      <td>4</td>\n",
       "      <td>4</td>\n",
       "      <td>5</td>\n",
       "      <td>7</td>\n",
       "      <td>10.0</td>\n",
       "      <td>3</td>\n",
       "      <td>2</td>\n",
       "      <td>1</td>\n",
       "      <td>1</td>\n",
       "    </tr>\n",
       "    <tr>\n",
       "      <th>2</th>\n",
       "      <td>3</td>\n",
       "      <td>1</td>\n",
       "      <td>1</td>\n",
       "      <td>1</td>\n",
       "      <td>2</td>\n",
       "      <td>2.0</td>\n",
       "      <td>3</td>\n",
       "      <td>1</td>\n",
       "      <td>1</td>\n",
       "      <td>1</td>\n",
       "    </tr>\n",
       "    <tr>\n",
       "      <th>3</th>\n",
       "      <td>6</td>\n",
       "      <td>8</td>\n",
       "      <td>8</td>\n",
       "      <td>1</td>\n",
       "      <td>3</td>\n",
       "      <td>4.0</td>\n",
       "      <td>3</td>\n",
       "      <td>7</td>\n",
       "      <td>1</td>\n",
       "      <td>1</td>\n",
       "    </tr>\n",
       "    <tr>\n",
       "      <th>4</th>\n",
       "      <td>4</td>\n",
       "      <td>1</td>\n",
       "      <td>1</td>\n",
       "      <td>3</td>\n",
       "      <td>2</td>\n",
       "      <td>1.0</td>\n",
       "      <td>3</td>\n",
       "      <td>1</td>\n",
       "      <td>1</td>\n",
       "      <td>1</td>\n",
       "    </tr>\n",
       "    <tr>\n",
       "      <th>5</th>\n",
       "      <td>8</td>\n",
       "      <td>10</td>\n",
       "      <td>10</td>\n",
       "      <td>8</td>\n",
       "      <td>7</td>\n",
       "      <td>10.0</td>\n",
       "      <td>9</td>\n",
       "      <td>7</td>\n",
       "      <td>1</td>\n",
       "      <td>-1</td>\n",
       "    </tr>\n",
       "    <tr>\n",
       "      <th>6</th>\n",
       "      <td>1</td>\n",
       "      <td>1</td>\n",
       "      <td>1</td>\n",
       "      <td>1</td>\n",
       "      <td>2</td>\n",
       "      <td>10.0</td>\n",
       "      <td>3</td>\n",
       "      <td>1</td>\n",
       "      <td>1</td>\n",
       "      <td>1</td>\n",
       "    </tr>\n",
       "    <tr>\n",
       "      <th>7</th>\n",
       "      <td>2</td>\n",
       "      <td>1</td>\n",
       "      <td>2</td>\n",
       "      <td>1</td>\n",
       "      <td>2</td>\n",
       "      <td>1.0</td>\n",
       "      <td>3</td>\n",
       "      <td>1</td>\n",
       "      <td>1</td>\n",
       "      <td>1</td>\n",
       "    </tr>\n",
       "    <tr>\n",
       "      <th>8</th>\n",
       "      <td>2</td>\n",
       "      <td>1</td>\n",
       "      <td>1</td>\n",
       "      <td>1</td>\n",
       "      <td>2</td>\n",
       "      <td>1.0</td>\n",
       "      <td>1</td>\n",
       "      <td>1</td>\n",
       "      <td>5</td>\n",
       "      <td>1</td>\n",
       "    </tr>\n",
       "    <tr>\n",
       "      <th>9</th>\n",
       "      <td>4</td>\n",
       "      <td>2</td>\n",
       "      <td>1</td>\n",
       "      <td>1</td>\n",
       "      <td>2</td>\n",
       "      <td>1.0</td>\n",
       "      <td>2</td>\n",
       "      <td>1</td>\n",
       "      <td>1</td>\n",
       "      <td>1</td>\n",
       "    </tr>\n",
       "  </tbody>\n",
       "</table>\n",
       "</div>"
      ],
      "text/plain": [
       "   clump_thickness  unif_cell_size  unif_cell_shape  marg_adhesion  \\\n",
       "0                5               1                1              1   \n",
       "1                5               4                4              5   \n",
       "2                3               1                1              1   \n",
       "3                6               8                8              1   \n",
       "4                4               1                1              3   \n",
       "5                8              10               10              8   \n",
       "6                1               1                1              1   \n",
       "7                2               1                2              1   \n",
       "8                2               1                1              1   \n",
       "9                4               2                1              1   \n",
       "\n",
       "   single_epith_cell_size  bare_nuclei  bland_chrom  norm_nucleoli  mitoses  \\\n",
       "0                       2          1.0            3              1        1   \n",
       "1                       7         10.0            3              2        1   \n",
       "2                       2          2.0            3              1        1   \n",
       "3                       3          4.0            3              7        1   \n",
       "4                       2          1.0            3              1        1   \n",
       "5                       7         10.0            9              7        1   \n",
       "6                       2         10.0            3              1        1   \n",
       "7                       2          1.0            3              1        1   \n",
       "8                       2          1.0            1              1        5   \n",
       "9                       2          1.0            2              1        1   \n",
       "\n",
       "   razred  \n",
       "0       1  \n",
       "1       1  \n",
       "2       1  \n",
       "3       1  \n",
       "4       1  \n",
       "5      -1  \n",
       "6       1  \n",
       "7       1  \n",
       "8       1  \n",
       "9       1  "
      ]
     },
     "execution_count": 163,
     "metadata": {},
     "output_type": "execute_result"
    }
   ],
   "source": [
    "df = pd.read_csv('breast-cancer-wisconsin.data.txt')\n",
    "df.replace('?', -99, inplace=True)\n",
    "df.drop(['id'], 1, inplace=True)\n",
    "df[['bare_nuclei']] = df[['bare_nuclei']].astype(float)\n",
    "df.rename(columns={'class': 'razred'}, inplace=True)\n",
    "df.loc[df['razred'] == 2, 'razred'] = 1\n",
    "df.loc[df['razred'] == 4, 'razred'] = -1\n",
    "df[:10]"
   ]
  },
  {
   "cell_type": "code",
   "execution_count": 15,
   "metadata": {
    "collapsed": false
   },
   "outputs": [],
   "source": [
    "clf = SVM(df, kernel='linear')"
   ]
  },
  {
   "cell_type": "code",
   "execution_count": 16,
   "metadata": {
    "collapsed": false
   },
   "outputs": [],
   "source": [
    "clf.fit_one_versus_all(C=1)"
   ]
  },
  {
   "cell_type": "code",
   "execution_count": 31,
   "metadata": {
    "collapsed": false
   },
   "outputs": [],
   "source": [
    "clf.cross_validate()"
   ]
  },
  {
   "cell_type": "code",
   "execution_count": 32,
   "metadata": {
    "collapsed": false
   },
   "outputs": [
    {
     "data": {
      "text/plain": [
       "0.65538302277432714"
      ]
     },
     "execution_count": 32,
     "metadata": {},
     "output_type": "execute_result"
    }
   ],
   "source": [
    "clf.accuracy"
   ]
  },
  {
   "cell_type": "code",
   "execution_count": 17,
   "metadata": {
    "collapsed": false
   },
   "outputs": [
    {
     "data": {
      "text/plain": [
       "0"
      ]
     },
     "execution_count": 17,
     "metadata": {},
     "output_type": "execute_result"
    }
   ],
   "source": [
    "clf.predict_one_versus_all([5, 4, 4, 5, 7, 10, 3, 2, 1])"
   ]
  },
  {
   "cell_type": "code",
   "execution_count": 18,
   "metadata": {
    "collapsed": false
   },
   "outputs": [],
   "source": [
    "df = pd.read_csv('bezdekIris.txt', sep=\",\", header=None)\n",
    "df.columns = ['sepal_length', 'sepal_width', 'petal_length', 'petal_width', 'razred' ]\n",
    "\n",
    "df = df[df.razred != 'Iris-setosa']\n",
    "\n",
    "\n",
    "df.replace({'Iris-versicolor': 1, 'Iris-virginica': -1,}, inplace=True)\n",
    "df.reset_index()\n",
    "\n",
    "\n",
    "df.drop(['petal_length', 'petal_width'], 1, inplace=True)\n",
    "\n",
    "\n",
    "clf = SVM(df, kernel='polynomial', degree=1)\n",
    "clf.fit_one_versus_all(C=1000)"
   ]
  },
  {
   "cell_type": "code",
   "execution_count": 19,
   "metadata": {
    "collapsed": false
   },
   "outputs": [
    {
     "data": {
      "image/png": "[encoded data removed]",
      "text/plain": [
       "<matplotlib.figure.Figure at 0x11d006f60>"
      ]
     },
     "metadata": {},
     "output_type": "display_data"
    }
   ],
   "source": [
    "clf.visualize()"
   ]
  },
  {
   "cell_type": "code",
   "execution_count": 20,
   "metadata": {
    "collapsed": false
   },
   "outputs": [
    {
     "data": {
      "text/plain": [
       "0.5"
      ]
     },
     "execution_count": 20,
     "metadata": {},
     "output_type": "execute_result"
    }
   ],
   "source": [
    "clf.cross_validate()\n",
    "clf.accuracy"
   ]
  },
  {
   "cell_type": "code",
   "execution_count": 28,
   "metadata": {
    "collapsed": false
   },
   "outputs": [
    {
     "data": {
      "text/plain": [
       "14"
      ]
     },
     "execution_count": 28,
     "metadata": {},
     "output_type": "execute_result"
    }
   ],
   "source": [
    "np.dot([1,2,3], [1,2,3])"
   ]
  },
  {
   "cell_type": "code",
   "execution_count": 275,
   "metadata": {
    "collapsed": false
   },
   "outputs": [],
   "source": [
    "df = pd.read_csv('ex8a.txt', sep=' |:', header=None, engine='python')\n",
    "df.columns = ['razred', 'c', 'a', 'd', 'b']\n",
    "df.drop(['c', 'd'], 1, inplace=True)"
   ]
  },
  {
   "cell_type": "code",
   "execution_count": 276,
   "metadata": {
    "collapsed": false
   },
   "outputs": [
    {
     "data": {
      "text/html": [
       "<div>\n",
       "<table border=\"1\" class=\"dataframe\">\n",
       "  <thead>\n",
       "    <tr style=\"text-align: right;\">\n",
       "      <th></th>\n",
       "      <th>razred</th>\n",
       "      <th>a</th>\n",
       "      <th>b</th>\n",
       "    </tr>\n",
       "  </thead>\n",
       "  <tbody>\n",
       "    <tr>\n",
       "      <th>858</th>\n",
       "      <td>1</td>\n",
       "      <td>0.994240</td>\n",
       "      <td>0.516667</td>\n",
       "    </tr>\n",
       "    <tr>\n",
       "      <th>859</th>\n",
       "      <td>1</td>\n",
       "      <td>0.964286</td>\n",
       "      <td>0.472807</td>\n",
       "    </tr>\n",
       "    <tr>\n",
       "      <th>860</th>\n",
       "      <td>1</td>\n",
       "      <td>0.975806</td>\n",
       "      <td>0.439474</td>\n",
       "    </tr>\n",
       "    <tr>\n",
       "      <th>861</th>\n",
       "      <td>1</td>\n",
       "      <td>0.989631</td>\n",
       "      <td>0.425439</td>\n",
       "    </tr>\n",
       "    <tr>\n",
       "      <th>862</th>\n",
       "      <td>1</td>\n",
       "      <td>0.996544</td>\n",
       "      <td>0.414912</td>\n",
       "    </tr>\n",
       "  </tbody>\n",
       "</table>\n",
       "</div>"
      ],
      "text/plain": [
       "     razred         a         b\n",
       "858       1  0.994240  0.516667\n",
       "859       1  0.964286  0.472807\n",
       "860       1  0.975806  0.439474\n",
       "861       1  0.989631  0.425439\n",
       "862       1  0.996544  0.414912"
      ]
     },
     "execution_count": 276,
     "metadata": {},
     "output_type": "execute_result"
    }
   ],
   "source": [
    "df[-5:]"
   ]
  },
  {
   "cell_type": "code",
   "execution_count": 277,
   "metadata": {
    "collapsed": false
   },
   "outputs": [],
   "source": [
    "clf = SVM(df, kernel='radial',g=100, C=10)"
   ]
  },
  {
   "cell_type": "code",
   "execution_count": 278,
   "metadata": {
    "collapsed": false
   },
   "outputs": [
    {
     "name": "stdout",
     "output_type": "stream",
     "text": [
      "1.15308042846\n"
     ]
    }
   ],
   "source": [
    "clf.fit_one_versus_one()"
   ]
  },
  {
   "cell_type": "code",
   "execution_count": 279,
   "metadata": {
    "collapsed": false
   },
   "outputs": [
    {
     "data": {
      "image/png": "[encoded data removed]",
      "text/plain": [
       "<matplotlib.figure.Figure at 0x105c0d6d8>"
      ]
     },
     "metadata": {},
     "output_type": "display_data"
    }
   ],
   "source": [
    "clf.visualize()"
   ]
  },
  {
   "cell_type": "code",
   "execution_count": 223,
   "metadata": {
    "collapsed": false
   },
   "outputs": [],
   "source": [
    "mu_vec1 = np.array([0,0])\n",
    "cov_mat1 = np.array([[2,1],[1,1]])\n",
    "x1_samples = np.random.multivariate_normal(mu_vec1, cov_mat1, 100)\n",
    "mu_vec1 = mu_vec1.reshape(1,2).T # to 1-col vector\n",
    "\n",
    "mu_vec2 = np.array([6,0])\n",
    "cov_mat2 = np.array([[2,1],[1,1]])\n",
    "x2_samples = np.random.multivariate_normal(mu_vec2, cov_mat2, 100)\n",
    "mu_vec2 = mu_vec2.reshape(1,2).T\n",
    "\n",
    "mu_vec3 = np.array([0,6])\n",
    "cov_mat3 = np.array([[2,1],[1,1]])\n",
    "x3_samples = np.random.multivariate_normal(mu_vec3, cov_mat3, 100)\n",
    "mu_vec3 = mu_vec3.reshape(1,2).T\n",
    "\n",
    "Y = np.array([0]*100 + [1]*100 + [2] * 100)\n",
    "X = np.concatenate((x1_samples,x2_samples, x3_samples,), axis = 0) \n",
    "data = np.column_stack((X, Y,))\n",
    "data = pd.DataFrame(data)\n",
    "data.columns = ['x', 'y', 'razred']\n",
    "clf = SVM(data, kernel='radial', g=1, C=100)\n",
    "clf.fit()"
   ]
  },
  {
   "cell_type": "code",
   "execution_count": 224,
   "metadata": {
    "collapsed": false
   },
   "outputs": [
    {
     "data": {
      "image/png": "[encoded data removed]",
      "text/plain": [
       "<matplotlib.figure.Figure at 0x1233ea6a0>"
      ]
     },
     "metadata": {},
     "output_type": "display_data"
    }
   ],
   "source": [
    "clf.visualize()"
   ]
  },
  {
   "cell_type": "code",
   "execution_count": 10,
   "metadata": {
    "collapsed": false
   },
   "outputs": [
    {
     "data": {
      "text/plain": [
       "2"
      ]
     },
     "execution_count": 10,
     "metadata": {},
     "output_type": "execute_result"
    }
   ],
   "source": [
    "np.argmax([1,2,3, 2, 1])"
   ]
  },
  {
   "cell_type": "code",
   "execution_count": 159,
   "metadata": {
    "collapsed": false
   },
   "outputs": [
    {
     "data": {
      "text/plain": [
       "8"
      ]
     },
     "execution_count": 159,
     "metadata": {},
     "output_type": "execute_result"
    }
   ],
   "source": [
    "10^2"
   ]
  },
  {
   "cell_type": "code",
   "execution_count": 177,
   "metadata": {
    "collapsed": false
   },
   "outputs": [
    {
     "data": {
      "text/plain": [
       "1e-05"
      ]
     },
     "execution_count": 177,
     "metadata": {},
     "output_type": "execute_result"
    }
   ],
   "source": [
    "10 ** (-5)"
   ]
  },
  {
   "cell_type": "code",
   "execution_count": null,
   "metadata": {
    "collapsed": true
   },
   "outputs": [],
   "source": []
  }
 ],
 "metadata": {
  "anaconda-cloud": {},
  "kernelspec": {
   "display_name": "Python [conda root]",
   "language": "python",
   "name": "conda-root-py"
  },
  "language_info": {
   "codemirror_mode": {
    "name": "ipython",
    "version": 3
   },
   "file_extension": ".py",
   "mimetype": "text/x-python",
   "name": "python",
   "nbconvert_exporter": "python",
   "pygments_lexer": "ipython3",
   "version": "3.5.2"
  }
 },
 "nbformat": 4,
 "nbformat_minor": 0
}
