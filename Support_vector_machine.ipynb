{
 "cells": [
  {
   "cell_type": "code",
   "execution_count": 72,
   "metadata": {
    "collapsed": false
   },
   "outputs": [],
   "source": [
    "import matplotlib.pyplot as plt\n",
    "from matplotlib import style\n",
    "import numpy as np\n",
    "import pandas as pd\n",
    "import random as rd\n",
    "from cvxpy import *\n",
    "from sklearn.utils import shuffle\n",
    "\n",
    "\n",
    "style.use('ggplot')\n",
    "\n",
    "\n",
    "class SVM():\n",
    "    def fit(self):\n",
    "        #(w, b, success_ratio)\n",
    "        best_success_ratio = 0\n",
    "        for w, b, success_ratio in self.results:\n",
    "            if success_ratio > best_success_ratio:\n",
    "                best_success_ratio = success_ratio\n",
    "                self.w = w\n",
    "                self.b = b\n",
    "        self.success_ratio = best_success_ratio\n",
    "            \n",
    "                \n",
    "    def cross_validate(self, data):\n",
    "        self.data = data\n",
    "        self.split_data = split_data(data)\n",
    "        n = len(self.split_data)\n",
    "        results = []\n",
    "        for i in range(n):\n",
    "            test = self.split_data[i]\n",
    "            train = [df for num, df in enumerate(self.split_data) if not num == i]\n",
    "            train = pd.concat(train)\n",
    "            test_X = normalize_01(np.array(test.drop(['class'], 1)).astype(np.float))\n",
    "            test_y = np.array(test['class']).astype(np.float)\n",
    "            train_X = normalize_01(np.array(train.drop(['class'], 1)).astype(np.float))\n",
    "            train_y = np.array(train['class']).astype(np.float)\n",
    "            self.w, self.b = optimize(train_X, train_y)\n",
    "            succes_ratio = self.test(test_X, test_y)\n",
    "            results.append((self.w, self.b, succes_ratio))\n",
    "        self.results = results\n",
    "\n",
    "    \n",
    "    def predict(self, X):\n",
    "        return np.sign(np.dot(X, self.w) + self.b)\n",
    "    \n",
    "\n",
    "    def test(self, X, y):\n",
    "        all_instances = 0\n",
    "        correct_instances = 0\n",
    "        for index, instance in enumerate(X):\n",
    "            all_instances += 1\n",
    "            if self.predict(instance) == y[index]:\n",
    "                correct_instances += 1\n",
    "        success_ratio = correct_instances/all_instances\n",
    "        return success_ratio\n",
    "    \n",
    "    \n",
    "    def visualize(self):\n",
    "        if len(self.data.columns) != 3:\n",
    "            return 'Number of attribute dimensions is not 2'\n",
    "        self.fig = plt.figure()\n",
    "        self.ax = self.fig.add_subplot(1,1,1)\n",
    "        first_class = df.loc[df['class'] == 1]\n",
    "        second_class = df.loc[df['class'] == -1]\n",
    "        fst_att, snd_att, _ = first_class.columns\n",
    "        self.ax.scatter(first_class[fst_att], first_class[snd_att], color = 'red')\n",
    "        self.ax.scatter(second_class[fst_att], second_class[snd_att], color = 'blue')\n",
    "        \n",
    "        t = np.arange(-0.2, 1.0, 0.01)\n",
    "        s = - clf.w[0]/clf.w[1] * t - clf.b/clf.w[1]\n",
    "\n",
    "        s_plus = - clf.w[0]/clf.w[1] * t - (clf.b - 1)/clf.w[1]\n",
    "        s_minus = - clf.w[0]/clf.w[1] * t - (clf.b + 1)/clf.w[1]\n",
    "        \n",
    "        self.ax.plot(t, s, 'black')\n",
    "        self.ax.plot(t, s_plus, 'r--')\n",
    "        self.ax.plot(t, s_minus, 'b--')\n",
    "        \n",
    "        plt.show()\n",
    "        \n",
    "    \n",
    "\n",
    "        \n",
    "    \n",
    "def normalize_01(X):\n",
    "    X_normed = (X - X.min(0)) / X.ptp(0)\n",
    "    return X_normed\n",
    "    \n",
    "    \n",
    "    \n",
    "def optimize(X, y, C=5):\n",
    "\n",
    "    # train to get w and b for hyperplane\n",
    "    # solving optimizational problem for min ||w|| + C Sum(e_i)\n",
    "    # subject to y_i (w^t x_i + b) >= 1 - e_i and e_i >= 0 for i = 1, ... , len data[0]\n",
    "\n",
    "    n = len(X)\n",
    "    m = len(X[0])\n",
    "\n",
    "    w = Variable(m)\n",
    "    b = Variable(1)\n",
    "    e = Variable(n)\n",
    "\n",
    "\n",
    "    obj = Minimize(norm(w) + C * sum_entries(e))\n",
    "\n",
    "    constraints = [e >= 0]\n",
    "\n",
    "    for i in range(n):\n",
    "        constraints.append(1 - e[i]- y[i] * (w.T * X[i] + b) <= 0)\n",
    "\n",
    "    prob = Problem(obj, constraints)\n",
    "    prob.solve()\n",
    "\n",
    "    w = np.squeeze(np.asarray(w.T.value))\n",
    "    b = b.value        \n",
    "    return (w, b)\n",
    "        \n",
    "        \n",
    "        \n",
    "\n",
    "def split_data(data, k=10):\n",
    "    '''\n",
    "    :param data:\n",
    "    :param k:\n",
    "    :return:\n",
    "    '''\n",
    "    data = shuffle(data)\n",
    "    data.reset_index(drop=True,inplace=True)\n",
    "    split_data = partition(data, k)\n",
    "    return split_data\n",
    "        \n",
    "\n",
    "\n",
    "def partition(lst, n):\n",
    "    '''\n",
    "    :param lst: array of elemnts\n",
    "    :param n: number of partitions\n",
    "    :return: array partitioned into n arrays\n",
    "    '''\n",
    "    division = len(lst) / n\n",
    "    return [lst[round(division * i):round(division * (i + 1))] for i in range(n)]\n",
    "\n",
    "\n",
    "\n",
    "\n",
    "\n",
    "\n",
    "\n",
    "def normalize_df(df):\n",
    "    df[df.columns.difference(['class'])] = df[df.columns.difference(['class'])].apply(lambda x: (x - x.min()) / (x.max() - x.min()))\n",
    "    \n",
    "\n",
    "\n",
    "# df = pd.read_csv('breast-cancer-wisconsin.data.txt')\n",
    "# df.replace('?', -99, inplace=True)\n",
    "# df.drop(['id'], 1, inplace=True)\n",
    "\n",
    "# df.loc[df['class'] == 2, 'class'] = 1\n",
    "# df.loc[df['class'] == 4, 'class'] = -1\n",
    "\n",
    "\n",
    "# X = df.drop(['class'], 1)\n",
    "# y = df['class']\n",
    "\n",
    "#X = np.array(X).astype(np.float)\n",
    "\n",
    "\n",
    "# clf = SVM()\n",
    "\n",
    "# clf.cross_validate(df)\n",
    "\n",
    "\n",
    "df = pd.read_csv('bezdekIris.txt', sep=\",\", header=None)\n",
    "df.columns = ['sepal_length', 'sepal_width', 'petal_length', 'petal_width', 'clas' ]\n",
    "\n",
    "df = df[df.clas != 'Iris-versicolor']\n",
    "df = df.rename(columns={'clas': 'class',})\n",
    "\n",
    "\n",
    "df.replace({'Iris-setosa': 1, 'Iris-virginica': -1,}, inplace=True)\n",
    "df.reset_index()\n",
    "\n",
    "\n",
    "df.drop(['petal_length', 'petal_width'], 1, inplace=True)\n",
    "\n",
    "X = df.drop(['class'], 1)\n",
    "y = df['class']\n",
    "\n",
    "X = np.array(X).astype(np.float)\n",
    "y = np.array(y).astype(np.float)\n",
    "\n",
    "\n",
    "clf = SVM()\n",
    "\n",
    "clf.cross_validate(df)\n",
    "\n",
    "\n",
    "\n"
   ]
  },
  {
   "cell_type": "code",
   "execution_count": 73,
   "metadata": {
    "collapsed": false
   },
   "outputs": [],
   "source": [
    "clf.fit()"
   ]
  },
  {
   "cell_type": "code",
   "execution_count": 74,
   "metadata": {
    "collapsed": false,
    "scrolled": true
   },
   "outputs": [
    {
     "data": {
      "text/plain": [
       "array([-9. ,  5.5])"
      ]
     },
     "execution_count": 74,
     "metadata": {},
     "output_type": "execute_result"
    }
   ],
   "source": [
    "clf.w"
   ]
  },
  {
   "cell_type": "code",
   "execution_count": 75,
   "metadata": {
    "collapsed": false
   },
   "outputs": [
    {
     "data": {
      "text/plain": [
       "0.75000000011375145"
      ]
     },
     "execution_count": 75,
     "metadata": {},
     "output_type": "execute_result"
    }
   ],
   "source": [
    "clf.b"
   ]
  },
  {
   "cell_type": "code",
   "execution_count": 76,
   "metadata": {
    "collapsed": false
   },
   "outputs": [
    {
     "data": {
      "text/html": [
       "<div>\n",
       "<table border=\"1\" class=\"dataframe\">\n",
       "  <thead>\n",
       "    <tr style=\"text-align: right;\">\n",
       "      <th></th>\n",
       "      <th>sepal_length</th>\n",
       "      <th>sepal_width</th>\n",
       "      <th>class</th>\n",
       "    </tr>\n",
       "  </thead>\n",
       "  <tbody>\n",
       "    <tr>\n",
       "      <th>0</th>\n",
       "      <td>0.222222</td>\n",
       "      <td>0.590909</td>\n",
       "      <td>1</td>\n",
       "    </tr>\n",
       "    <tr>\n",
       "      <th>1</th>\n",
       "      <td>0.166667</td>\n",
       "      <td>0.363636</td>\n",
       "      <td>1</td>\n",
       "    </tr>\n",
       "    <tr>\n",
       "      <th>2</th>\n",
       "      <td>0.111111</td>\n",
       "      <td>0.454545</td>\n",
       "      <td>1</td>\n",
       "    </tr>\n",
       "    <tr>\n",
       "      <th>3</th>\n",
       "      <td>0.083333</td>\n",
       "      <td>0.409091</td>\n",
       "      <td>1</td>\n",
       "    </tr>\n",
       "    <tr>\n",
       "      <th>4</th>\n",
       "      <td>0.194444</td>\n",
       "      <td>0.636364</td>\n",
       "      <td>1</td>\n",
       "    </tr>\n",
       "    <tr>\n",
       "      <th>5</th>\n",
       "      <td>0.305556</td>\n",
       "      <td>0.772727</td>\n",
       "      <td>1</td>\n",
       "    </tr>\n",
       "    <tr>\n",
       "      <th>6</th>\n",
       "      <td>0.083333</td>\n",
       "      <td>0.545455</td>\n",
       "      <td>1</td>\n",
       "    </tr>\n",
       "    <tr>\n",
       "      <th>7</th>\n",
       "      <td>0.194444</td>\n",
       "      <td>0.545455</td>\n",
       "      <td>1</td>\n",
       "    </tr>\n",
       "    <tr>\n",
       "      <th>8</th>\n",
       "      <td>0.027778</td>\n",
       "      <td>0.318182</td>\n",
       "      <td>1</td>\n",
       "    </tr>\n",
       "    <tr>\n",
       "      <th>9</th>\n",
       "      <td>0.166667</td>\n",
       "      <td>0.409091</td>\n",
       "      <td>1</td>\n",
       "    </tr>\n",
       "  </tbody>\n",
       "</table>\n",
       "</div>"
      ],
      "text/plain": [
       "   sepal_length  sepal_width  class\n",
       "0      0.222222     0.590909      1\n",
       "1      0.166667     0.363636      1\n",
       "2      0.111111     0.454545      1\n",
       "3      0.083333     0.409091      1\n",
       "4      0.194444     0.636364      1\n",
       "5      0.305556     0.772727      1\n",
       "6      0.083333     0.545455      1\n",
       "7      0.194444     0.545455      1\n",
       "8      0.027778     0.318182      1\n",
       "9      0.166667     0.409091      1"
      ]
     },
     "execution_count": 76,
     "metadata": {},
     "output_type": "execute_result"
    }
   ],
   "source": [
    "normalize_df(df)\n",
    "df[:10]\n"
   ]
  },
  {
   "cell_type": "code",
   "execution_count": 77,
   "metadata": {
    "collapsed": false
   },
   "outputs": [
    {
     "data": {
      "text/plain": [
       "0.99"
      ]
     },
     "execution_count": 77,
     "metadata": {},
     "output_type": "execute_result"
    }
   ],
   "source": [
    "X = normalize_01(X)\n",
    "\n",
    "uspeli = 0 \n",
    "vsi = 0\n",
    "for i in range(len(X)):\n",
    "    vsi += 1\n",
    "    if clf.predict(X[i]) == y[i]:\n",
    "        uspeli += 1\n",
    "uspeli / vsi"
   ]
  },
  {
   "cell_type": "code",
   "execution_count": 78,
   "metadata": {
    "collapsed": false
   },
   "outputs": [
    {
     "data": {
      "text/plain": [
       "1.0"
      ]
     },
     "execution_count": 78,
     "metadata": {},
     "output_type": "execute_result"
    }
   ],
   "source": [
    "clf.success_ratio"
   ]
  },
  {
   "cell_type": "code",
   "execution_count": 79,
   "metadata": {
    "collapsed": false
   },
   "outputs": [
    {
     "data": {
      "image/png": "[encoded data removed]",
      "text/plain": [
       "<matplotlib.figure.Figure at 0x121103278>"
      ]
     },
     "metadata": {},
     "output_type": "display_data"
    }
   ],
   "source": [
    "\n",
    "first_class = df.loc[df['class'] == 1]\n",
    "second_class = df.loc[df['class'] == -1]\n",
    "\n",
    "plt.scatter(first_class['sepal_length'], first_class['sepal_width'], color = 'red')\n",
    "plt.scatter(second_class['sepal_length'], second_class['sepal_width'], color = 'blue')\n",
    "\n",
    "\n",
    "\n",
    "t = np.arange(-0.2, 1.0, 0.01)\n",
    "s = - clf.w[0]/clf.w[1] * t - clf.b/clf.w[1]\n",
    "\n",
    "\n",
    "s_plus = - clf.w[0]/clf.w[1] * t - (clf.b - 1)/clf.w[1]\n",
    "s_minus = - clf.w[0]/clf.w[1] * t - (clf.b + 1)/clf.w[1]\n",
    "\n",
    "# x1 = 0\n",
    "# x2 = 1.2\n",
    "# y1 = - clf.w[0]/clf.w[1] * x1 - clf.b/clf.w[1]\n",
    "# y2 = - clf.w[0]/clf.w[1] * x2 - clf.b/clf.w[1]\n",
    "#plt.plot(x1, y1, x2, y2,'o')\n",
    "\n",
    "plt.plot(t, s, 'black')\n",
    "plt.plot(t, s_plus, 'r--')\n",
    "plt.plot(t, s_minus, 'b--')\n",
    "\n",
    "plt.show()"
   ]
  },
  {
   "cell_type": "code",
   "execution_count": 82,
   "metadata": {
    "collapsed": false
   },
   "outputs": [
    {
     "data": {
      "image/png": "[encoded data removed]",
      "text/plain": [
       "<matplotlib.figure.Figure at 0x12122f0b8>"
      ]
     },
     "metadata": {},
     "output_type": "display_data"
    }
   ],
   "source": [
    "clf.visualize()"
   ]
  }
 ],
 "metadata": {
  "anaconda-cloud": {},
  "kernelspec": {
   "display_name": "Python [conda root]",
   "language": "python",
   "name": "conda-root-py"
  },
  "language_info": {
   "codemirror_mode": {
    "name": "ipython",
    "version": 3
   },
   "file_extension": ".py",
   "mimetype": "text/x-python",
   "name": "python",
   "nbconvert_exporter": "python",
   "pygments_lexer": "ipython3",
   "version": "3.5.2"
  }
 },
 "nbformat": 4,
 "nbformat_minor": 0
}
