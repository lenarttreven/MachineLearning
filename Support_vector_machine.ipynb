{
 "cells": [
  {
   "cell_type": "code",
   "execution_count": 100,
   "metadata": {
    "collapsed": false
   },
   "outputs": [
    {
     "data": {
      "text/plain": [
       "array([[ 0.57142857,  0.        ,  0.        ,  0.        ,  0.        ,\n",
       "         0.        ,  0.25      ,  0.        ,  0.        ],\n",
       "       [ 0.57142857,  0.33333333,  0.33333333,  0.57142857,  1.        ,\n",
       "         1.        ,  0.25      ,  0.16666667,  0.        ],\n",
       "       [ 0.28571429,  0.        ,  0.        ,  0.        ,  0.        ,\n",
       "         0.11111111,  0.25      ,  0.        ,  0.        ],\n",
       "       [ 0.71428571,  0.77777778,  0.77777778,  0.        ,  0.2       ,\n",
       "         0.33333333,  0.25      ,  1.        ,  0.        ],\n",
       "       [ 0.42857143,  0.        ,  0.        ,  0.28571429,  0.        ,\n",
       "         0.        ,  0.25      ,  0.        ,  0.        ],\n",
       "       [ 1.        ,  1.        ,  1.        ,  1.        ,  1.        ,\n",
       "         1.        ,  1.        ,  1.        ,  0.        ],\n",
       "       [ 0.        ,  0.        ,  0.        ,  0.        ,  0.        ,\n",
       "         1.        ,  0.25      ,  0.        ,  0.        ],\n",
       "       [ 0.14285714,  0.        ,  0.11111111,  0.        ,  0.        ,\n",
       "         0.        ,  0.25      ,  0.        ,  0.        ],\n",
       "       [ 0.14285714,  0.        ,  0.        ,  0.        ,  0.        ,\n",
       "         0.        ,  0.        ,  0.        ,  1.        ],\n",
       "       [ 0.42857143,  0.11111111,  0.        ,  0.        ,  0.        ,\n",
       "         0.        ,  0.125     ,  0.        ,  0.        ]])"
      ]
     },
     "execution_count": 100,
     "metadata": {},
     "output_type": "execute_result"
    }
   ],
   "source": [
    "import matplotlib.pyplot as plt\n",
    "from matplotlib import style\n",
    "import numpy as np\n",
    "import pandas as pd\n",
    "import random as rd\n",
    "from cvxpy import *\n",
    "from sklearn.utils import shuffle\n",
    "\n",
    "\n",
    "style.use('ggplot')\n",
    "\n",
    "\n",
    "class SVM():\n",
    "    def fit(self):\n",
    "        #(w, b, success_ratio)\n",
    "        best_success_ratio = 0\n",
    "        for w, b, success_ratio in self.results:\n",
    "            if success_ratio > best_success_ratio:\n",
    "                best_success_ratio = success_ratio\n",
    "                self.w = w\n",
    "                self.b = b\n",
    "        self.success_ratio = best_success_ratio\n",
    "            \n",
    "        \n",
    "        \n",
    "        \n",
    "    def cross_validate(self, data):\n",
    "        self.split_data = split_data(data)\n",
    "        n = len(self.split_data)\n",
    "        results = []\n",
    "        for i in range(n):\n",
    "            test = self.split_data[i]\n",
    "            train = [df for num, df in enumerate(self.split_data) if not num == i]\n",
    "            train = pd.concat(train)\n",
    "            test_X = np.array(test.drop(['class'], 1)).astype(np.float)\n",
    "            test_y = np.array(test['class']).astype(np.float)\n",
    "            train_X = np.array(train.drop(['class'], 1)).astype(np.float)\n",
    "            train_y = np.array(train['class']).astype(np.float)\n",
    "            self.w, self.b = optimize(train_X, train_y)\n",
    "            succes_ratio = self.test(test_X, test_y)\n",
    "            results.append((self.w, self.b, succes_ratio))\n",
    "        self.results = results\n",
    "\n",
    "    \n",
    "    def predict(self, X):\n",
    "        return np.sign(np.dot(X, self.w) + self.b)\n",
    "    \n",
    "\n",
    "    \n",
    "    \n",
    "    def test(self, X, y):\n",
    "        all_instances = 0\n",
    "        correct_instances = 0\n",
    "        for index, instance in enumerate(X):\n",
    "            all_instances += 1\n",
    "            if self.predict(instance) == y[index]:\n",
    "                correct_instances += 1\n",
    "        success_ratio = correct_instances/all_instances\n",
    "        return success_ratio\n",
    "        \n",
    "    \n",
    "def normalize_01(X):\n",
    "    X_normed = (X - X.min(0)) / X.ptp(0)\n",
    "    return X_normed\n",
    "    \n",
    "    \n",
    "    \n",
    "def optimize(X, y, C=5):\n",
    "\n",
    "    # train to get w and b for hyperplane\n",
    "    # solving optimizational problem for min ||w|| + C Sum(e_i)\n",
    "    # subject to y_i (w^t x_i + b) >= 1 - e_i and e_i >= 0 for i = 1, ... , len data[0]\n",
    "\n",
    "    n = len(X)\n",
    "    m = len(X[0])\n",
    "\n",
    "    w = Variable(m)\n",
    "    b = Variable(1)\n",
    "    e = Variable(n)\n",
    "\n",
    "\n",
    "    obj = Minimize(norm(w) + C * sum_entries(e))\n",
    "\n",
    "    constraints = [e >= 0]\n",
    "\n",
    "    for i in range(n):\n",
    "        constraints.append(1 - e[i]- y[i] * (w.T * X[i] + b) <= 0)\n",
    "\n",
    "    prob = Problem(obj, constraints)\n",
    "    prob.solve()\n",
    "\n",
    "    w = np.squeeze(np.asarray(w.T.value))\n",
    "    b = b.value        \n",
    "    return (w, b)\n",
    "        \n",
    "        \n",
    "        \n",
    "\n",
    "def split_data(data, k=10):\n",
    "    '''\n",
    "    :param data:\n",
    "    :param k:\n",
    "    :return:\n",
    "    '''\n",
    "    data = shuffle(data)\n",
    "    data.reset_index(drop=True,inplace=True)\n",
    "    split_data = partition(data, k)\n",
    "    return split_data\n",
    "        \n",
    "\n",
    "\n",
    "def partition(lst, n):\n",
    "    '''\n",
    "    :param lst: array of elemnts\n",
    "    :param n: number of partitions\n",
    "    :return: array partitioned into n arrays\n",
    "    '''\n",
    "    division = len(lst) / n\n",
    "    return [lst[round(division * i):round(division * (i + 1))] for i in range(n)]\n",
    "\n",
    "\n",
    "\n",
    "\n",
    "df = pd.read_csv('breast-cancer-wisconsin.data.txt')\n",
    "df.replace('?', -99, inplace=True)\n",
    "df.drop(['id'], 1, inplace=True)\n",
    "\n",
    "df.loc[df['class'] == 2, 'class'] = 1\n",
    "df.loc[df['class'] == 4, 'class'] = -1\n",
    "\n",
    "\n",
    "X = df.drop(['class'], 1)\n",
    "y = df['class']\n",
    "\n",
    "X = np.array(X).astype(np.float)\n",
    "\n",
    "\n",
    "#clf = SVM()\n",
    "\n",
    "#clf.cross_validate(df)\n",
    "normalize_01(X[:10])\n"
   ]
  },
  {
   "cell_type": "code",
   "execution_count": 73,
   "metadata": {
    "collapsed": false
   },
   "outputs": [],
   "source": [
    "clf.fit()"
   ]
  },
  {
   "cell_type": "code",
   "execution_count": 75,
   "metadata": {
    "collapsed": false,
    "scrolled": true
   },
   "outputs": [
    {
     "data": {
      "text/plain": [
       "array([-0.309228  , -0.05133639, -0.30427716, -0.0908156 , -0.06622205,\n",
       "       -0.0250459 , -0.31781802, -0.09022429, -0.09415279])"
      ]
     },
     "execution_count": 75,
     "metadata": {},
     "output_type": "execute_result"
    }
   ],
   "source": [
    "clf.w"
   ]
  },
  {
   "cell_type": "code",
   "execution_count": 76,
   "metadata": {
    "collapsed": false
   },
   "outputs": [
    {
     "data": {
      "text/plain": [
       "4.9657522942709402"
      ]
     },
     "execution_count": 76,
     "metadata": {},
     "output_type": "execute_result"
    }
   ],
   "source": [
    "clf.b"
   ]
  },
  {
   "cell_type": "code",
   "execution_count": 77,
   "metadata": {
    "collapsed": false
   },
   "outputs": [
    {
     "data": {
      "text/html": [
       "<div>\n",
       "<table border=\"1\" class=\"dataframe\">\n",
       "  <thead>\n",
       "    <tr style=\"text-align: right;\">\n",
       "      <th></th>\n",
       "      <th>clump_thickness</th>\n",
       "      <th>unif_cell_size</th>\n",
       "      <th>unif_cell_shape</th>\n",
       "      <th>marg_adhesion</th>\n",
       "      <th>single_epith_cell_size</th>\n",
       "      <th>bare_nuclei</th>\n",
       "      <th>bland_chrom</th>\n",
       "      <th>norm_nucleoli</th>\n",
       "      <th>mitoses</th>\n",
       "      <th>class</th>\n",
       "    </tr>\n",
       "  </thead>\n",
       "  <tbody>\n",
       "    <tr>\n",
       "      <th>0</th>\n",
       "      <td>5</td>\n",
       "      <td>1</td>\n",
       "      <td>1</td>\n",
       "      <td>1</td>\n",
       "      <td>2</td>\n",
       "      <td>1</td>\n",
       "      <td>3</td>\n",
       "      <td>1</td>\n",
       "      <td>1</td>\n",
       "      <td>1</td>\n",
       "    </tr>\n",
       "    <tr>\n",
       "      <th>1</th>\n",
       "      <td>5</td>\n",
       "      <td>4</td>\n",
       "      <td>4</td>\n",
       "      <td>5</td>\n",
       "      <td>7</td>\n",
       "      <td>10</td>\n",
       "      <td>3</td>\n",
       "      <td>2</td>\n",
       "      <td>1</td>\n",
       "      <td>1</td>\n",
       "    </tr>\n",
       "    <tr>\n",
       "      <th>2</th>\n",
       "      <td>3</td>\n",
       "      <td>1</td>\n",
       "      <td>1</td>\n",
       "      <td>1</td>\n",
       "      <td>2</td>\n",
       "      <td>2</td>\n",
       "      <td>3</td>\n",
       "      <td>1</td>\n",
       "      <td>1</td>\n",
       "      <td>1</td>\n",
       "    </tr>\n",
       "    <tr>\n",
       "      <th>3</th>\n",
       "      <td>6</td>\n",
       "      <td>8</td>\n",
       "      <td>8</td>\n",
       "      <td>1</td>\n",
       "      <td>3</td>\n",
       "      <td>4</td>\n",
       "      <td>3</td>\n",
       "      <td>7</td>\n",
       "      <td>1</td>\n",
       "      <td>1</td>\n",
       "    </tr>\n",
       "    <tr>\n",
       "      <th>4</th>\n",
       "      <td>4</td>\n",
       "      <td>1</td>\n",
       "      <td>1</td>\n",
       "      <td>3</td>\n",
       "      <td>2</td>\n",
       "      <td>1</td>\n",
       "      <td>3</td>\n",
       "      <td>1</td>\n",
       "      <td>1</td>\n",
       "      <td>1</td>\n",
       "    </tr>\n",
       "    <tr>\n",
       "      <th>5</th>\n",
       "      <td>8</td>\n",
       "      <td>10</td>\n",
       "      <td>10</td>\n",
       "      <td>8</td>\n",
       "      <td>7</td>\n",
       "      <td>10</td>\n",
       "      <td>9</td>\n",
       "      <td>7</td>\n",
       "      <td>1</td>\n",
       "      <td>-1</td>\n",
       "    </tr>\n",
       "    <tr>\n",
       "      <th>6</th>\n",
       "      <td>1</td>\n",
       "      <td>1</td>\n",
       "      <td>1</td>\n",
       "      <td>1</td>\n",
       "      <td>2</td>\n",
       "      <td>10</td>\n",
       "      <td>3</td>\n",
       "      <td>1</td>\n",
       "      <td>1</td>\n",
       "      <td>1</td>\n",
       "    </tr>\n",
       "    <tr>\n",
       "      <th>7</th>\n",
       "      <td>2</td>\n",
       "      <td>1</td>\n",
       "      <td>2</td>\n",
       "      <td>1</td>\n",
       "      <td>2</td>\n",
       "      <td>1</td>\n",
       "      <td>3</td>\n",
       "      <td>1</td>\n",
       "      <td>1</td>\n",
       "      <td>1</td>\n",
       "    </tr>\n",
       "    <tr>\n",
       "      <th>8</th>\n",
       "      <td>2</td>\n",
       "      <td>1</td>\n",
       "      <td>1</td>\n",
       "      <td>1</td>\n",
       "      <td>2</td>\n",
       "      <td>1</td>\n",
       "      <td>1</td>\n",
       "      <td>1</td>\n",
       "      <td>5</td>\n",
       "      <td>1</td>\n",
       "    </tr>\n",
       "    <tr>\n",
       "      <th>9</th>\n",
       "      <td>4</td>\n",
       "      <td>2</td>\n",
       "      <td>1</td>\n",
       "      <td>1</td>\n",
       "      <td>2</td>\n",
       "      <td>1</td>\n",
       "      <td>2</td>\n",
       "      <td>1</td>\n",
       "      <td>1</td>\n",
       "      <td>1</td>\n",
       "    </tr>\n",
       "  </tbody>\n",
       "</table>\n",
       "</div>"
      ],
      "text/plain": [
       "   clump_thickness  unif_cell_size  unif_cell_shape  marg_adhesion  \\\n",
       "0                5               1                1              1   \n",
       "1                5               4                4              5   \n",
       "2                3               1                1              1   \n",
       "3                6               8                8              1   \n",
       "4                4               1                1              3   \n",
       "5                8              10               10              8   \n",
       "6                1               1                1              1   \n",
       "7                2               1                2              1   \n",
       "8                2               1                1              1   \n",
       "9                4               2                1              1   \n",
       "\n",
       "   single_epith_cell_size bare_nuclei  bland_chrom  norm_nucleoli  mitoses  \\\n",
       "0                       2           1            3              1        1   \n",
       "1                       7          10            3              2        1   \n",
       "2                       2           2            3              1        1   \n",
       "3                       3           4            3              7        1   \n",
       "4                       2           1            3              1        1   \n",
       "5                       7          10            9              7        1   \n",
       "6                       2          10            3              1        1   \n",
       "7                       2           1            3              1        1   \n",
       "8                       2           1            1              1        5   \n",
       "9                       2           1            2              1        1   \n",
       "\n",
       "   class  \n",
       "0      1  \n",
       "1      1  \n",
       "2      1  \n",
       "3      1  \n",
       "4      1  \n",
       "5     -1  \n",
       "6      1  \n",
       "7      1  \n",
       "8      1  \n",
       "9      1  "
      ]
     },
     "execution_count": 77,
     "metadata": {},
     "output_type": "execute_result"
    }
   ],
   "source": [
    "df[:10]"
   ]
  },
  {
   "cell_type": "code",
   "execution_count": 80,
   "metadata": {
    "collapsed": false
   },
   "outputs": [
    {
     "data": {
      "text/plain": [
       "array([ 5.,  1.,  1.,  1.,  2.,  1.,  3.,  1.,  1.])"
      ]
     },
     "execution_count": 80,
     "metadata": {},
     "output_type": "execute_result"
    }
   ],
   "source": [
    "a = X[0]\n",
    "a"
   ]
  },
  {
   "cell_type": "code",
   "execution_count": 93,
   "metadata": {
    "collapsed": false
   },
   "outputs": [
    {
     "data": {
      "text/plain": [
       "0.9628040057224606"
      ]
     },
     "execution_count": 93,
     "metadata": {},
     "output_type": "execute_result"
    }
   ],
   "source": [
    "uspeli = 0 \n",
    "vsi = 0\n",
    "for i in range(len(X)):\n",
    "    vsi += 1\n",
    "    if clf.predict(X[i]) == y[i]:\n",
    "        uspeli += 1\n",
    "uspeli / vsi"
   ]
  },
  {
   "cell_type": "code",
   "execution_count": 95,
   "metadata": {
    "collapsed": false
   },
   "outputs": [
    {
     "data": {
      "text/plain": [
       "0.9857142857142858"
      ]
     },
     "execution_count": 95,
     "metadata": {},
     "output_type": "execute_result"
    }
   ],
   "source": [
    "clf.success_ratio"
   ]
  },
  {
   "cell_type": "code",
   "execution_count": null,
   "metadata": {
    "collapsed": true
   },
   "outputs": [],
   "source": []
  }
 ],
 "metadata": {
  "anaconda-cloud": {},
  "kernelspec": {
   "display_name": "Python [conda root]",
   "language": "python",
   "name": "conda-root-py"
  },
  "language_info": {
   "codemirror_mode": {
    "name": "ipython",
    "version": 3
   },
   "file_extension": ".py",
   "mimetype": "text/x-python",
   "name": "python",
   "nbconvert_exporter": "python",
   "pygments_lexer": "ipython3",
   "version": "3.5.2"
  }
 },
 "nbformat": 4,
 "nbformat_minor": 0
}
