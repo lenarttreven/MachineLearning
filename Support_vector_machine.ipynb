{
 "cells": [
  {
   "cell_type": "code",
   "execution_count": 21,
   "metadata": {
    "collapsed": false
   },
   "outputs": [],
   "source": [
    "import matplotlib.pyplot as plt\n",
    "from matplotlib import style\n",
    "import numpy as np\n",
    "import pandas as pd\n",
    "from cvxpy import *\n",
    "from sklearn.utils import shuffle\n",
    "\n",
    "\n",
    "style.use('ggplot')\n",
    "\n",
    "\n",
    "class SVM():\n",
    "    def __init__(self, data, kernel=\"linear\", degree=1, g=100, k1=1, k2=1, C=50, method='ovo'):\n",
    "        self.K = self.make_k(kernel, degree, g, k1, k2)\n",
    "        self.kernel = kernel\n",
    "        self.degree = degree\n",
    "        self.g = g\n",
    "        self.k1 = k1\n",
    "        self.k2 = k2\n",
    "        self.C = C\n",
    "        self.method = 'ovo'\n",
    "        self.prepare_data(data)\n",
    "        self.data = data.copy()\n",
    "        self.normalized_data = normalize_df(data)\n",
    "        self.maximum = np.array(self.data[self.data.columns.difference(['razred'])].max())\n",
    "        self.minimum = np.array(self.data[self.data.columns.difference(['razred'])].min())\n",
    "     \n",
    "    def make_k(self, kernel, degree=1, g=100, k1=1, k2=1): \n",
    "        if kernel == 'linear':\n",
    "            def jedro(x1, x2):\n",
    "                return np.dot(x1, x2)\n",
    "            return jedro\n",
    "        elif kernel == 'polynomial':\n",
    "            def jedro(x1, x2):\n",
    "                return (1 + np.dot(x1, x2)) ** degree\n",
    "            return jedro\n",
    "        elif kernel == 'radial':\n",
    "            def jedro(x1, x2):\n",
    "                return np.exp(-g * np.linalg.norm(x1 - x2, axis=-1))\n",
    "            return jedro\n",
    "        elif kernel == 'neural':\n",
    "            def jedro(x1, x2):\n",
    "                return np.tanh(k1 * np.dot(x1, x2)+ k2) \n",
    "            return jedro\n",
    "    \n",
    "    def prepare_data(self, df):\n",
    "        self.stevilo_razredov = df.razred.nunique()\n",
    "        self.to_indeks = dict()\n",
    "        self.to_name = dict()\n",
    "        for indeks, name in enumerate(df.razred.unique()):\n",
    "            self.to_indeks[name] = indeks\n",
    "            self.to_name[indeks] = name\n",
    "        df.replace(self.to_indeks, inplace=True)\n",
    "                      \n",
    "    \n",
    "    \n",
    "    def fit(self):\n",
    "        if self.method == 'ovo':\n",
    "            self.napovedi = self.fit_one_versus_one()\n",
    "        elif self.method == 'ova':\n",
    "            self.napovedi = self.fit_one_versus_all()\n",
    "      \n",
    "    \n",
    "    def fit_one_versus_one(self):\n",
    "        napovedi = dict()\n",
    "        for i in range(self.stevilo_razredov):\n",
    "            for j in range(i):\n",
    "                data = self.normalized_data.loc[self.normalized_data['razred'].isin([i, j])]\n",
    "                X = np.array(data.drop(['razred'], 1)).astype(np.float)\n",
    "                y = np.array(data['razred']).astype(np.float)\n",
    "                y[y == j] = -1\n",
    "                y[y == i] = 1\n",
    "                a, b, indeksi = self._fit(X, y)\n",
    "                napovedi[(i,j)] = (a, b, indeksi)\n",
    "        return napovedi\n",
    "    \n",
    "    \n",
    "    def predict_one_versus_one(self, X, napovedi):\n",
    "        glasovi = np.zeros(self.stevilo_razredov)\n",
    "        for i in range(self.stevilo_razredov):\n",
    "            for j in range(i):\n",
    "                data = self.normalized_data.loc[self.normalized_data['razred'].isin([i, j])]\n",
    "                X_data = np.array(data.drop(['razred'], 1)).astype(np.float)\n",
    "                y_data = np.array(data['razred']).astype(np.float)\n",
    "                y_data[y_data == j] = -1\n",
    "                y_data[y_data == i] = 1\n",
    "                glas = self._predict(X, X_data, y_data, *self.napovedi[(i,j)])\n",
    "                if glas == 1:\n",
    "                    glasovi[i] += 1\n",
    "                else:\n",
    "                    glasovi[j] += 1\n",
    "        return np.argmax(glasovi)\n",
    "                                         \n",
    "      \n",
    "    def fit_one_versus_all(self):\n",
    "        napovedi = dict()\n",
    "        for i in range(stevilo_razredov):\n",
    "            X_train = np.array(self.normalized_data.drop(['razred'], 1)).astype(np.float)\n",
    "            y_train = np.array(data['razred']).astype(np.float)\n",
    "            y_train[y_train != i] = -1\n",
    "            y_train[y_train == i] = 1\n",
    "            napovedi[i] = self._fit(X, y)\n",
    "        return napovedi\n",
    "    \n",
    "    def predict_one_versus_all(self, X, napovedi):\n",
    "        glasovi = np.zeros(self.stevilo_razredov)\n",
    "        for i in range(self.stevilo_razredov):\n",
    "            X_data = np.array(self.normalized_data.drop(['razred'], 1)).astype(np.float)\n",
    "            y_data = np.array(data['razred']).astype(np.float)\n",
    "            y_data[y_data != i] = -1\n",
    "            y_data[y_data == i] = 1\n",
    "            glasovi[i] = self.classifier(X, X_data, y_data, *napovedi[i])\n",
    "        return np.argmax(glasovi)\n",
    "    \n",
    "       \n",
    "    def cross_validate(self, k=10):\n",
    "        self.split_data = split_data(self.data, k)\n",
    "        n = len(self.split_data)\n",
    "        results = []\n",
    "        tests = []\n",
    "        for i in range(n):\n",
    "            test = self.split_data[i]\n",
    "            train = [df for num, df in enumerate(self.split_data) if not num == i]\n",
    "            train = pd.concat(train)\n",
    "            test_X = normalize_01(np.array(test.drop(['razred'], 1)).astype(np.float))\n",
    "            test_y = np.array(test['razred']).astype(np.float)\n",
    "            train_X = normalize_01(np.array(train.drop(['razred'], 1)).astype(np.float))\n",
    "            train_y = np.array(train['razred']).astype(np.float)\n",
    "            a, b = self._fit(train_X, train_y)\n",
    "            accuracy = self.test(test_X, test_y)\n",
    "            results.append((a, b, accuracy))\n",
    "            tests.append(accuracy)\n",
    "        self.results = results\n",
    "        self.accuracy_test = np.array(tests)\n",
    "        self.accuracy = np.mean(self.accuracy_test)\n",
    "           \n",
    "            \n",
    "            \n",
    "            \n",
    "            \n",
    "            \n",
    "            \n",
    "    def predict(self, X, df, ydf, a, b):\n",
    "        X = (X - self.minimum) / (self.maximum - self.minimum)\n",
    "        return self._predict(X, df, ydf, a, b)\n",
    "    \n",
    "    def _predict(self, X, df, ydf, a, b, indeksi):\n",
    "        return np.sign(self.classifier(X, df, ydf, a, b, indeksi))\n",
    "    \n",
    "    \n",
    "    def posplosen_skalarni_produkt(self, x_j, X, y, alpha, indeksi):\n",
    "        rezultat = 0\n",
    "        for i in indeksi: \n",
    "            rezultat += alpha[i] * y[i] * self.K(x_j, X[i])\n",
    "        return rezultat\n",
    "        \n",
    "    \n",
    "    def find_support_vectors(self, alpha,X, y, odpad= 10 ** (-5), odstopanje=0.99):\n",
    "        a = np.amax(alpha)\n",
    "        print(a)\n",
    "        #poiščemo indkse, za katere so X[i] podporni vektorji\n",
    "        indeksi = []\n",
    "        for i in range(len(alpha)):\n",
    "            if alpha[i]/a >= odpad:\n",
    "                #print('{} je vecje od {}'.format(alpha[i]/a, odpad))\n",
    "                indeksi.append(i)\n",
    "        #sedaj določimo b, ki ga potrebujemo za napoved.\n",
    "        #B je vektor, ki ga bomo polnili z različnimi b-ji nato pa izračunalil njigevo povprečje\n",
    "        B = []\n",
    "        for i in indeksi:\n",
    "            if alpha[i] < self.C * odstopanje:\n",
    "                B.append(y[i] - self.posplosen_skalarni_produkt(X[i], X, y, alpha, indeksi))\n",
    "        \n",
    "        b = np.mean(B)\n",
    "        return (b, indeksi)\n",
    "         \n",
    "        \n",
    "    def classifier(self, X, Xdf, ydf, a, b, indeksi):\n",
    "        result = self.posplosen_skalarni_produkt(X, Xdf, ydf, a, indeksi)\n",
    "        return result + b\n",
    "    \n",
    "    def test(self, X, y):\n",
    "        all_instances = 0\n",
    "        correct_instances = 0\n",
    "        for index, instance in enumerate(X):\n",
    "            all_instances += 1\n",
    "            if self.predict_one_versus_all(instance) == y[index]:\n",
    "                correct_instances += 1\n",
    "        accuracy = correct_instances/all_instances\n",
    "        return accuracy\n",
    "    \n",
    "    \n",
    "    def visualize(self):\n",
    "        if len(self.data.columns) != 3:\n",
    "            return 'Number of attribute dimensions is not 2'\n",
    "        self.fig = plt.figure()\n",
    "        self.ax = self.fig.add_subplot(1,1,1)\n",
    "        df = self.normalized_data\n",
    "        \n",
    "        #narišemo vse različne razrede kot scatter graf:\n",
    "        seznam_razredov = df.razred.unique()\n",
    "        x_stolpec, y_stolpec = df.columns.difference(['razred'])\n",
    "\n",
    "        n = len(seznam_razredov)       \n",
    "        color=iter(plt.cm.rainbow(np.linspace(0,1,n)))\n",
    "        \n",
    "        \n",
    "        for razred in seznam_razredov:\n",
    "            data = df.loc[df['razred'] == razred]\n",
    "            c=next(color)\n",
    "            self.ax.scatter(data[x_stolpec], data[y_stolpec], c=c)\n",
    "           \n",
    "        \n",
    "        #narišemo vse meje med posameznimi razredi:\n",
    "        for i in range(self.stevilo_razredov):\n",
    "            for j in range(i):\n",
    "                data = self.normalized_data.loc[self.normalized_data['razred'].isin([i, j])]\n",
    "                data = self.normalized_data.loc[self.normalized_data['razred'].isin([i, j])]\n",
    "                data.replace({i: 1, j: -1,},inplace=True)\n",
    "                Xdf = np.array(data.drop(['razred'], 1)).astype(np.float)\n",
    "                ydf = np.array(data['razred']).astype(np.float)\n",
    "                \n",
    "                h = .01  # step size in the mesh\n",
    "                # create a mesh to plot in\n",
    "                x_min, x_max = -0.2, 1.2\n",
    "                y_min, y_max = -0.2, 1.2\n",
    "                xx, yy = np.meshgrid(np.arange(x_min, x_max, h), np.arange(y_min, y_max, h))\n",
    "\n",
    "                # Plot the decision boundary. For that, we will assign a color to each\n",
    "                # point in the mesh [x_min, m_max]x[y_min, y_max].\n",
    "                Z = self.classifier(np.c_[xx.ravel(), yy.ravel()], Xdf, ydf, *self.napovedi[(i,j)])\n",
    "\n",
    "                # Put the result into a color plot\n",
    "                Z = Z.reshape(xx.shape)\n",
    "                plt.contour(xx, yy, Z, levels=[-1 , 0, 1], colors=('grey', 'black', 'grey'), linestyles=('dashed', 'solid', 'dashed'))\n",
    "               \n",
    "\n",
    "        plt.savefig('sample.pdf')\n",
    "        plt.show()\n",
    "\n",
    "        \n",
    "    \n",
    "        \n",
    "    def _fit(self, X, y):\n",
    "        n = len(X)\n",
    "        m = len(X[0])\n",
    "    \n",
    "        a = Variable(n)\n",
    "\n",
    "        # we have to generate matrix from X and y\n",
    "        # we create matrix based on rigth kernel  \n",
    "        A = np.zeros(shape=(n,n))\n",
    "        for i in range(n):\n",
    "            for j in range(n):\n",
    "                A[i][j] = self.K(X[i], X[j])\n",
    "\n",
    "        obj = Maximize(sum_entries(a) - 1/2 * quad_form(a, np.dot(np.dot(np.diag(y), A), np.diag(y))))\n",
    "\n",
    "        constraints = [a >= 0,  a <= self.C, a.T * y == 0]\n",
    "        \n",
    "        prob = Problem(obj, constraints)\n",
    "        prob.solve()\n",
    "\n",
    "        a = np.squeeze(np.asarray(a.value))\n",
    "        b, indeksi = self.find_support_vectors(a, X, y, odpad=10**(-5), odstopanje=0.99)\n",
    "        \n",
    "        return (a, b, indeksi)\n",
    "        \n",
    "        \n",
    "\n",
    "def normalize_df(df):\n",
    "    df[df.columns.difference(['razred'])] = df[df.columns.difference(['razred'])].apply(lambda x: (x - x.min()) / (x.max() - x.min()))\n",
    "    return df    \n",
    "    \n",
    "def normalize_01(X):\n",
    "    X_normed = (X - X.min(0)) / X.ptp(0)\n",
    "    return X_normed\n",
    "    \n",
    "def split_data(data, k=10):\n",
    "    '''\n",
    "    :param data:\n",
    "    :param k:\n",
    "    :return:\n",
    "    '''\n",
    "    data = shuffle(data)\n",
    "    data.reset_index(drop=True,inplace=True)\n",
    "    split_data = partition(data, k)\n",
    "    return split_data\n",
    "        \n",
    "def partition(lst, n):\n",
    "    '''\n",
    "    :param lst: array of elemnts\n",
    "    :param n: number of partitions\n",
    "    :return: array partitioned into n arrays\n",
    "    '''\n",
    "    division = len(lst) / n\n",
    "    return [lst[round(division * i):round(division * (i + 1))] for i in range(n)]\n"
   ]
  },
  {
   "cell_type": "code",
   "execution_count": 33,
   "metadata": {
    "collapsed": false
   },
   "outputs": [
    {
     "data": {
      "text/html": [
       "<div>\n",
       "<table border=\"1\" class=\"dataframe\">\n",
       "  <thead>\n",
       "    <tr style=\"text-align: right;\">\n",
       "      <th></th>\n",
       "      <th>dolzina_casnega_lista</th>\n",
       "      <th>sirina_casnega_lista</th>\n",
       "      <th>razred</th>\n",
       "    </tr>\n",
       "  </thead>\n",
       "  <tbody>\n",
       "    <tr>\n",
       "      <th>0</th>\n",
       "      <td>5.9</td>\n",
       "      <td>3.0</td>\n",
       "      <td>Iris-versicolor</td>\n",
       "    </tr>\n",
       "    <tr>\n",
       "      <th>1</th>\n",
       "      <td>7.7</td>\n",
       "      <td>2.6</td>\n",
       "      <td>Iris-virginica</td>\n",
       "    </tr>\n",
       "    <tr>\n",
       "      <th>2</th>\n",
       "      <td>4.9</td>\n",
       "      <td>3.6</td>\n",
       "      <td>Iris-setosa</td>\n",
       "    </tr>\n",
       "    <tr>\n",
       "      <th>3</th>\n",
       "      <td>7.6</td>\n",
       "      <td>3.0</td>\n",
       "      <td>Iris-virginica</td>\n",
       "    </tr>\n",
       "    <tr>\n",
       "      <th>4</th>\n",
       "      <td>5.7</td>\n",
       "      <td>3.8</td>\n",
       "      <td>Iris-setosa</td>\n",
       "    </tr>\n",
       "    <tr>\n",
       "      <th>5</th>\n",
       "      <td>5.7</td>\n",
       "      <td>2.5</td>\n",
       "      <td>Iris-virginica</td>\n",
       "    </tr>\n",
       "    <tr>\n",
       "      <th>6</th>\n",
       "      <td>4.7</td>\n",
       "      <td>3.2</td>\n",
       "      <td>Iris-setosa</td>\n",
       "    </tr>\n",
       "    <tr>\n",
       "      <th>7</th>\n",
       "      <td>5.5</td>\n",
       "      <td>2.3</td>\n",
       "      <td>Iris-versicolor</td>\n",
       "    </tr>\n",
       "    <tr>\n",
       "      <th>8</th>\n",
       "      <td>5.0</td>\n",
       "      <td>3.2</td>\n",
       "      <td>Iris-setosa</td>\n",
       "    </tr>\n",
       "    <tr>\n",
       "      <th>9</th>\n",
       "      <td>6.4</td>\n",
       "      <td>3.2</td>\n",
       "      <td>Iris-virginica</td>\n",
       "    </tr>\n",
       "  </tbody>\n",
       "</table>\n",
       "</div>"
      ],
      "text/plain": [
       "   dolzina_casnega_lista  sirina_casnega_lista           razred\n",
       "0                    5.9                   3.0  Iris-versicolor\n",
       "1                    7.7                   2.6   Iris-virginica\n",
       "2                    4.9                   3.6      Iris-setosa\n",
       "3                    7.6                   3.0   Iris-virginica\n",
       "4                    5.7                   3.8      Iris-setosa\n",
       "5                    5.7                   2.5   Iris-virginica\n",
       "6                    4.7                   3.2      Iris-setosa\n",
       "7                    5.5                   2.3  Iris-versicolor\n",
       "8                    5.0                   3.2      Iris-setosa\n",
       "9                    6.4                   3.2   Iris-virginica"
      ]
     },
     "execution_count": 33,
     "metadata": {},
     "output_type": "execute_result"
    }
   ],
   "source": [
    "df = pd.read_csv('bezdekIris.txt', sep=\",\", header=None)\n",
    "df.columns = ['dolzina_casnega_lista', 'sirina_casnega_lista', 'dolzina_vencnega_lista', 'sirina_vencnega_lista', 'razred' ]\n",
    "df = shuffle(df)\n",
    "df.reset_index(drop=True,inplace=True)\n",
    "df.reset_index(drop=True,inplace=True)\n",
    "df.drop(['dolzina_vencnega_lista', 'sirina_vencnega_lista'], 1, inplace=True)\n",
    "#df = df[df.razred != 'Iris-versicolor']\n",
    "df[:10]"
   ]
  },
  {
   "cell_type": "code",
   "execution_count": 34,
   "metadata": {
    "collapsed": false
   },
   "outputs": [
    {
     "name": "stdout",
     "output_type": "stream",
     "text": [
      "0.999999999993\n",
      "0.999999999993\n",
      "0.999999999989\n"
     ]
    }
   ],
   "source": [
    "#df = df[df.razred != 'Iris-virginica']\n",
    "#df.replace({'Iris-setosa': 1, 'Iris-versicolor': -1,}, inplace=True)\n",
    "#df.drop(['dolzina_vencnega_lista', 'sirina_vencnega_lista'], 1, inplace=True)\n",
    "#df.reset_index()\n",
    "#df[:10]\n",
    "clf = SVM(df, kernel='polynomial', degree= 5, g=0.01, C=1)\n",
    "clf.fit()"
   ]
  },
  {
   "cell_type": "code",
   "execution_count": 35,
   "metadata": {
    "collapsed": false
   },
   "outputs": [
    {
     "data": {
      "text/plain": [
       "{(1, 0): (array([  1.00000000e+00,   8.52806473e-11,   2.44392268e-11,\n",
       "           1.00000000e+00,   1.62933025e-10,   1.00000000e+00,\n",
       "           1.73317831e-10,   1.75855272e-11,   1.00000000e+00,\n",
       "           1.00000000e+00,   1.00000000e+00,   1.00000000e+00,\n",
       "           1.86491700e-10,   1.00000000e+00,   1.16281693e-10,\n",
       "           1.00000000e+00,   1.00000000e+00,   1.00000000e+00,\n",
       "           1.00000000e+00,   8.75515230e-11,   1.00000000e+00,\n",
       "           1.00000000e+00,   9.99999999e-01,   1.00000000e+00,\n",
       "           1.00000000e+00,   1.00000000e+00,   1.00000000e+00,\n",
       "           1.00000000e+00,   3.96096127e-01,   1.00000000e+00,\n",
       "           4.62278178e-11,   3.07704960e-01,   3.07704960e-01,\n",
       "           1.73317831e-10,   1.00000000e+00,   1.00000000e+00,\n",
       "           6.99194210e-11,   1.00000000e+00,   1.00000000e+00,\n",
       "           3.91992186e-10,   1.00000000e+00,   1.00000000e+00,\n",
       "           1.00000000e+00,   9.99999999e-01,   1.00000000e+00,\n",
       "           1.60531497e-11,   6.42413463e-10,   1.13377639e-10,\n",
       "           1.00000000e+00,   2.51764644e-10,   1.06840828e-09,\n",
       "           1.00000000e+00,   1.00000000e+00,   1.00000000e+00,\n",
       "           1.00000000e+00,   1.00000000e+00,   1.00000000e+00,\n",
       "           1.00000000e+00,   1.00000000e+00,   2.35910890e-10,\n",
       "           1.00000000e+00,   1.00000000e+00,   1.00000000e+00,\n",
       "           1.00000000e+00,   1.00000000e+00,   1.06840828e-09,\n",
       "           1.07247320e-10,   8.43686372e-01,   9.76373837e-10,\n",
       "           1.00000000e+00,   2.57186584e-10,   7.93800775e-11,\n",
       "           1.00000000e+00,   3.96096118e-01,   1.46632651e-09,\n",
       "           1.00000000e+00,   1.00000000e+00,   1.00000000e+00,\n",
       "           1.00000000e+00,   2.34599029e-12,   1.20841432e-10,\n",
       "           1.00000000e+00,   4.64853670e-12,   1.00000000e+00,\n",
       "           1.00000000e+00,   1.00000000e+00,   9.99999999e-01,\n",
       "           1.00000000e+00,   1.00000000e+00,   8.43686363e-01,\n",
       "           3.63111816e-11,   7.74776058e-11,   2.03753158e-10,\n",
       "           1.35845053e-01,   2.60270149e-10,   1.00000000e+00,\n",
       "           1.00000000e+00,   1.00000000e+00,   9.99999892e-01,\n",
       "           1.00000000e+00]),\n",
       "  -1.7209368176101332,\n",
       "  [0,\n",
       "   3,\n",
       "   5,\n",
       "   8,\n",
       "   9,\n",
       "   10,\n",
       "   11,\n",
       "   13,\n",
       "   15,\n",
       "   16,\n",
       "   17,\n",
       "   18,\n",
       "   20,\n",
       "   21,\n",
       "   22,\n",
       "   23,\n",
       "   24,\n",
       "   25,\n",
       "   26,\n",
       "   27,\n",
       "   28,\n",
       "   29,\n",
       "   31,\n",
       "   32,\n",
       "   34,\n",
       "   35,\n",
       "   37,\n",
       "   38,\n",
       "   40,\n",
       "   41,\n",
       "   42,\n",
       "   43,\n",
       "   44,\n",
       "   48,\n",
       "   51,\n",
       "   52,\n",
       "   53,\n",
       "   54,\n",
       "   55,\n",
       "   56,\n",
       "   57,\n",
       "   58,\n",
       "   60,\n",
       "   61,\n",
       "   62,\n",
       "   63,\n",
       "   64,\n",
       "   67,\n",
       "   69,\n",
       "   72,\n",
       "   73,\n",
       "   75,\n",
       "   76,\n",
       "   77,\n",
       "   78,\n",
       "   81,\n",
       "   83,\n",
       "   84,\n",
       "   85,\n",
       "   86,\n",
       "   87,\n",
       "   88,\n",
       "   89,\n",
       "   93,\n",
       "   95,\n",
       "   96,\n",
       "   97,\n",
       "   98,\n",
       "   99]),\n",
       " (2, 0): (array([  1.15260644e-11,   1.19939050e-12,   8.86215862e-12,\n",
       "           1.14361354e-11,   9.74535974e-12,   5.51265606e-11,\n",
       "           1.17196652e-11,   8.70598028e-12,   1.48550093e-11,\n",
       "           5.95772363e-12,   1.73294136e-11,   4.05668223e-11,\n",
       "          -2.43220725e-12,   2.95580760e-12,   4.22453933e-12,\n",
       "          -2.04796363e-12,   3.11891696e-13,  -1.27647208e-12,\n",
       "           1.00000000e+00,  -6.77129836e-13,   7.18095846e-12,\n",
       "          -1.73890786e-12,   5.37283751e-11,   1.30894783e-11,\n",
       "           1.00000000e+00,   1.89775021e-12,   1.92936907e-12,\n",
       "           1.17196652e-11,   1.47852125e-12,   9.94062236e-01,\n",
       "           1.00000000e+00,  -1.13647741e-12,   1.74678471e-11,\n",
       "           8.22030022e-12,   1.79393826e-10,   7.18095846e-12,\n",
       "           8.46058993e-12,   4.27059954e-12,   5.29105197e-12,\n",
       "          -5.29898588e-14,   9.01759080e-11,   3.18388474e-12,\n",
       "           3.11891696e-13,   1.00000000e+00,   5.95772363e-12,\n",
       "           1.20864478e-11,   4.19203909e-12,  -1.45986840e-13,\n",
       "           1.00000000e+00,   1.00000000e+00,   2.50223532e-12,\n",
       "           4.41272627e-11,   3.04507612e-11,   1.79393826e-10,\n",
       "           3.23236109e-12,   2.50223532e-12,  -1.13647741e-12,\n",
       "           1.00000000e+00,   1.00000000e+00,   1.51367581e-11,\n",
       "           6.51727449e-11,   1.72105273e-11,   4.15676643e-11,\n",
       "           7.41394725e-01,   9.95515210e-12,   3.71254781e-11,\n",
       "           1.00000000e+00,   1.05411056e-12,   1.00000000e+00,\n",
       "           1.00000000e+00,  -1.43286734e-13,  -8.42954847e-13,\n",
       "           1.96872021e-11,   8.22030022e-12,   4.38691810e-12,\n",
       "          -1.84630835e-12,   4.22453933e-12,  -1.85887294e-12,\n",
       "           2.56903043e-12,  -1.43286734e-13,   1.14361354e-11,\n",
       "          -9.94129904e-13,   9.92180201e-14,   8.52973515e-12,\n",
       "           2.38680807e-11,   4.57193297e-12,   2.44250243e-12,\n",
       "           1.51367581e-11,   4.38691810e-12,   9.94062236e-01,\n",
       "           2.46729749e-01,   2.03116224e-11,  -1.77644686e-12,\n",
       "           1.48026819e-12,  -1.43286734e-13,   5.11330233e-12,\n",
       "           1.63787468e-11,  -2.02818173e-13,   5.78448691e-12,\n",
       "           2.34905942e-13]),\n",
       "  -0.43983114274865953,\n",
       "  [18, 24, 29, 30, 43, 48, 49, 57, 58, 63, 66, 68, 69, 89, 90]),\n",
       " (2, 1): (array([  7.20686143e-12,   7.90632488e-12,   8.06780128e-12,\n",
       "           2.84081095e-11,   5.96345549e-10,   2.19042783e-11,\n",
       "           6.86538733e-11,   1.40526030e-11,   8.88736662e-12,\n",
       "           4.67888106e-12,   2.28835273e-11,   9.28742631e-12,\n",
       "           8.64016082e-12,   8.64016082e-12,   1.70853821e-11,\n",
       "           2.43159630e-11,   8.64016082e-12,   5.94791056e-12,\n",
       "           5.37973063e-12,   1.24362039e-11,   1.34741292e-11,\n",
       "           7.73215955e-12,   3.25379608e-11,   1.00000000e+00,\n",
       "           1.72309336e-10,   1.87815690e-10,   2.01309624e-11,\n",
       "           1.21114687e-11,   6.36113751e-12,   8.04414908e-12,\n",
       "           8.04414908e-12,   9.46666581e-12,   6.86346333e-12,\n",
       "           5.79019659e-01,   1.74204826e-11,   5.86394816e-12,\n",
       "           1.13701652e-11,   2.02064538e-11,   1.25606887e-11,\n",
       "           9.06248090e-11,   2.67275526e-11,   7.07535501e-12,\n",
       "           5.86112505e-12,   1.24770649e-11,   6.22532579e-12,\n",
       "           5.89820119e-12,   8.97404534e-12,   3.02323832e-10,\n",
       "           7.90740529e-01,   7.10820562e-11,   7.73215955e-12,\n",
       "           1.23724951e-10,   4.06625616e-11,   1.70853821e-11,\n",
       "           2.75267193e-11,   1.04805450e-11,   4.85219281e-12,\n",
       "           1.00000000e+00,   4.98236220e-11,   5.32710338e-11,\n",
       "           9.06248090e-11,   1.06444808e-11,   5.89820119e-12,\n",
       "           1.23724951e-10,   3.33216666e-11,   3.61786856e-11,\n",
       "           9.99999997e-01,   8.21997859e-12,   6.64014983e-12,\n",
       "           1.00000000e+00,   6.32701203e-01,   1.87815690e-10,\n",
       "           8.36111807e-12,   2.01865326e-11,   6.08078130e-12,\n",
       "           4.20975541e-11,   1.22722200e-11,   6.09768951e-12,\n",
       "           2.02064538e-11,   1.28368474e-11,   1.34741292e-11,\n",
       "           1.00272221e-11,   3.76938993e-12,   1.34706435e-11,\n",
       "           6.08078130e-12,   2.19042783e-11,   1.00000000e+00,\n",
       "           1.76360411e-11,   1.61568037e-11,   1.52153231e-11,\n",
       "           8.97404534e-12,   9.07323057e-12,   1.28368474e-11,\n",
       "           5.79019664e-01,   8.10600264e-12,   4.87814484e-12,\n",
       "           6.08078130e-12,   5.61123783e-12,   2.58636200e-11,\n",
       "           6.40461047e-12]),\n",
       "  0.57669511994476663,\n",
       "  [23, 33, 48, 57, 66, 69, 70, 86, 93])}"
      ]
     },
     "execution_count": 35,
     "metadata": {},
     "output_type": "execute_result"
    }
   ],
   "source": [
    "#clf.normalized_data[:10]\n",
    "clf.napovedi"
   ]
  },
  {
   "cell_type": "code",
   "execution_count": 36,
   "metadata": {
    "collapsed": false,
    "scrolled": true
   },
   "outputs": [
    {
     "name": "stdout",
     "output_type": "stream",
     "text": [
      "0.7933333333333333\n"
     ]
    }
   ],
   "source": [
    "#clf.fit(C=10)\n",
    "vsi = 0\n",
    "prav = 0\n",
    "A = np.array(clf.normalized_data.drop(['razred'], 1)).astype(np.float)\n",
    "y = np.array(clf.normalized_data['razred']).astype(np.float)\n",
    "for i in range(len(A)):\n",
    "    napoved = clf.predict_one_versus_one(A[i], clf.napovedi)\n",
    "    if napoved == y[i]:\n",
    "        prav += 1\n",
    "    vsi += 1\n",
    "print(prav/vsi)"
   ]
  },
  {
   "cell_type": "code",
   "execution_count": 37,
   "metadata": {
    "collapsed": false,
    "scrolled": false
   },
   "outputs": [],
   "source": [
    "#clf.test(A, y)"
   ]
  },
  {
   "cell_type": "code",
   "execution_count": 38,
   "metadata": {
    "collapsed": false
   },
   "outputs": [],
   "source": [
    "#clf.cross_validate(k=3)"
   ]
  },
  {
   "cell_type": "code",
   "execution_count": 39,
   "metadata": {
    "collapsed": false
   },
   "outputs": [],
   "source": [
    "#clf.delitve_razredov"
   ]
  },
  {
   "cell_type": "code",
   "execution_count": 40,
   "metadata": {
    "collapsed": false
   },
   "outputs": [
    {
     "name": "stderr",
     "output_type": "stream",
     "text": [
      "/Users/lenarttreven/anaconda/lib/python3.5/site-packages/pandas/core/generic.py:3362: SettingWithCopyWarning: \n",
      "A value is trying to be set on a copy of a slice from a DataFrame\n",
      "\n",
      "See the caveats in the documentation: http://pandas.pydata.org/pandas-docs/stable/indexing.html#indexing-view-versus-copy\n",
      "  limit=limit, regex=regex)\n"
     ]
    },
    {
     "data": {
      "image/png": "[encoded data removed]",
      "text/plain": [
       "<matplotlib.figure.Figure at 0x121a39f28>"
      ]
     },
     "metadata": {},
     "output_type": "display_data"
    }
   ],
   "source": [
    "clf.visualize()"
   ]
  },
  {
   "cell_type": "code",
   "execution_count": 10,
   "metadata": {
    "collapsed": false
   },
   "outputs": [
    {
     "data": {
      "text/html": [
       "<div>\n",
       "<table border=\"1\" class=\"dataframe\">\n",
       "  <thead>\n",
       "    <tr style=\"text-align: right;\">\n",
       "      <th></th>\n",
       "      <th>clump_thickness</th>\n",
       "      <th>unif_cell_size</th>\n",
       "      <th>unif_cell_shape</th>\n",
       "      <th>marg_adhesion</th>\n",
       "      <th>single_epith_cell_size</th>\n",
       "      <th>bare_nuclei</th>\n",
       "      <th>bland_chrom</th>\n",
       "      <th>norm_nucleoli</th>\n",
       "      <th>mitoses</th>\n",
       "      <th>razred</th>\n",
       "    </tr>\n",
       "  </thead>\n",
       "  <tbody>\n",
       "    <tr>\n",
       "      <th>0</th>\n",
       "      <td>5</td>\n",
       "      <td>1</td>\n",
       "      <td>1</td>\n",
       "      <td>1</td>\n",
       "      <td>2</td>\n",
       "      <td>1.0</td>\n",
       "      <td>3</td>\n",
       "      <td>1</td>\n",
       "      <td>1</td>\n",
       "      <td>1</td>\n",
       "    </tr>\n",
       "    <tr>\n",
       "      <th>1</th>\n",
       "      <td>5</td>\n",
       "      <td>4</td>\n",
       "      <td>4</td>\n",
       "      <td>5</td>\n",
       "      <td>7</td>\n",
       "      <td>10.0</td>\n",
       "      <td>3</td>\n",
       "      <td>2</td>\n",
       "      <td>1</td>\n",
       "      <td>1</td>\n",
       "    </tr>\n",
       "    <tr>\n",
       "      <th>2</th>\n",
       "      <td>3</td>\n",
       "      <td>1</td>\n",
       "      <td>1</td>\n",
       "      <td>1</td>\n",
       "      <td>2</td>\n",
       "      <td>2.0</td>\n",
       "      <td>3</td>\n",
       "      <td>1</td>\n",
       "      <td>1</td>\n",
       "      <td>1</td>\n",
       "    </tr>\n",
       "    <tr>\n",
       "      <th>3</th>\n",
       "      <td>6</td>\n",
       "      <td>8</td>\n",
       "      <td>8</td>\n",
       "      <td>1</td>\n",
       "      <td>3</td>\n",
       "      <td>4.0</td>\n",
       "      <td>3</td>\n",
       "      <td>7</td>\n",
       "      <td>1</td>\n",
       "      <td>1</td>\n",
       "    </tr>\n",
       "    <tr>\n",
       "      <th>4</th>\n",
       "      <td>4</td>\n",
       "      <td>1</td>\n",
       "      <td>1</td>\n",
       "      <td>3</td>\n",
       "      <td>2</td>\n",
       "      <td>1.0</td>\n",
       "      <td>3</td>\n",
       "      <td>1</td>\n",
       "      <td>1</td>\n",
       "      <td>1</td>\n",
       "    </tr>\n",
       "    <tr>\n",
       "      <th>5</th>\n",
       "      <td>8</td>\n",
       "      <td>10</td>\n",
       "      <td>10</td>\n",
       "      <td>8</td>\n",
       "      <td>7</td>\n",
       "      <td>10.0</td>\n",
       "      <td>9</td>\n",
       "      <td>7</td>\n",
       "      <td>1</td>\n",
       "      <td>-1</td>\n",
       "    </tr>\n",
       "    <tr>\n",
       "      <th>6</th>\n",
       "      <td>1</td>\n",
       "      <td>1</td>\n",
       "      <td>1</td>\n",
       "      <td>1</td>\n",
       "      <td>2</td>\n",
       "      <td>10.0</td>\n",
       "      <td>3</td>\n",
       "      <td>1</td>\n",
       "      <td>1</td>\n",
       "      <td>1</td>\n",
       "    </tr>\n",
       "    <tr>\n",
       "      <th>7</th>\n",
       "      <td>2</td>\n",
       "      <td>1</td>\n",
       "      <td>2</td>\n",
       "      <td>1</td>\n",
       "      <td>2</td>\n",
       "      <td>1.0</td>\n",
       "      <td>3</td>\n",
       "      <td>1</td>\n",
       "      <td>1</td>\n",
       "      <td>1</td>\n",
       "    </tr>\n",
       "    <tr>\n",
       "      <th>8</th>\n",
       "      <td>2</td>\n",
       "      <td>1</td>\n",
       "      <td>1</td>\n",
       "      <td>1</td>\n",
       "      <td>2</td>\n",
       "      <td>1.0</td>\n",
       "      <td>1</td>\n",
       "      <td>1</td>\n",
       "      <td>5</td>\n",
       "      <td>1</td>\n",
       "    </tr>\n",
       "    <tr>\n",
       "      <th>9</th>\n",
       "      <td>4</td>\n",
       "      <td>2</td>\n",
       "      <td>1</td>\n",
       "      <td>1</td>\n",
       "      <td>2</td>\n",
       "      <td>1.0</td>\n",
       "      <td>2</td>\n",
       "      <td>1</td>\n",
       "      <td>1</td>\n",
       "      <td>1</td>\n",
       "    </tr>\n",
       "  </tbody>\n",
       "</table>\n",
       "</div>"
      ],
      "text/plain": [
       "   clump_thickness  unif_cell_size  unif_cell_shape  marg_adhesion  \\\n",
       "0                5               1                1              1   \n",
       "1                5               4                4              5   \n",
       "2                3               1                1              1   \n",
       "3                6               8                8              1   \n",
       "4                4               1                1              3   \n",
       "5                8              10               10              8   \n",
       "6                1               1                1              1   \n",
       "7                2               1                2              1   \n",
       "8                2               1                1              1   \n",
       "9                4               2                1              1   \n",
       "\n",
       "   single_epith_cell_size  bare_nuclei  bland_chrom  norm_nucleoli  mitoses  \\\n",
       "0                       2          1.0            3              1        1   \n",
       "1                       7         10.0            3              2        1   \n",
       "2                       2          2.0            3              1        1   \n",
       "3                       3          4.0            3              7        1   \n",
       "4                       2          1.0            3              1        1   \n",
       "5                       7         10.0            9              7        1   \n",
       "6                       2         10.0            3              1        1   \n",
       "7                       2          1.0            3              1        1   \n",
       "8                       2          1.0            1              1        5   \n",
       "9                       2          1.0            2              1        1   \n",
       "\n",
       "   razred  \n",
       "0       1  \n",
       "1       1  \n",
       "2       1  \n",
       "3       1  \n",
       "4       1  \n",
       "5      -1  \n",
       "6       1  \n",
       "7       1  \n",
       "8       1  \n",
       "9       1  "
      ]
     },
     "execution_count": 10,
     "metadata": {},
     "output_type": "execute_result"
    }
   ],
   "source": [
    "df = pd.read_csv('breast-cancer-wisconsin.data.txt')\n",
    "df.replace('?', -99, inplace=True)\n",
    "df.drop(['id'], 1, inplace=True)\n",
    "df[['bare_nuclei']] = df[['bare_nuclei']].astype(float)\n",
    "df.rename(columns={'class': 'razred'}, inplace=True)\n",
    "df.loc[df['razred'] == 2, 'razred'] = 1\n",
    "df.loc[df['razred'] == 4, 'razred'] = -1\n",
    "df[:10]"
   ]
  },
  {
   "cell_type": "code",
   "execution_count": 15,
   "metadata": {
    "collapsed": false
   },
   "outputs": [],
   "source": [
    "clf = SVM(df, kernel='linear')"
   ]
  },
  {
   "cell_type": "code",
   "execution_count": 16,
   "metadata": {
    "collapsed": false
   },
   "outputs": [],
   "source": [
    "clf.fit_one_versus_all(C=1)"
   ]
  },
  {
   "cell_type": "code",
   "execution_count": 31,
   "metadata": {
    "collapsed": false
   },
   "outputs": [],
   "source": [
    "clf.cross_validate()"
   ]
  },
  {
   "cell_type": "code",
   "execution_count": 32,
   "metadata": {
    "collapsed": false
   },
   "outputs": [
    {
     "data": {
      "text/plain": [
       "0.65538302277432714"
      ]
     },
     "execution_count": 32,
     "metadata": {},
     "output_type": "execute_result"
    }
   ],
   "source": [
    "clf.accuracy"
   ]
  },
  {
   "cell_type": "code",
   "execution_count": 17,
   "metadata": {
    "collapsed": false
   },
   "outputs": [
    {
     "data": {
      "text/plain": [
       "0"
      ]
     },
     "execution_count": 17,
     "metadata": {},
     "output_type": "execute_result"
    }
   ],
   "source": [
    "clf.predict_one_versus_all([5, 4, 4, 5, 7, 10, 3, 2, 1])"
   ]
  },
  {
   "cell_type": "code",
   "execution_count": 18,
   "metadata": {
    "collapsed": false
   },
   "outputs": [],
   "source": [
    "df = pd.read_csv('bezdekIris.txt', sep=\",\", header=None)\n",
    "df.columns = ['sepal_length', 'sepal_width', 'petal_length', 'petal_width', 'razred' ]\n",
    "\n",
    "df = df[df.razred != 'Iris-setosa']\n",
    "\n",
    "\n",
    "df.replace({'Iris-versicolor': 1, 'Iris-virginica': -1,}, inplace=True)\n",
    "df.reset_index()\n",
    "\n",
    "\n",
    "df.drop(['petal_length', 'petal_width'], 1, inplace=True)\n",
    "\n",
    "\n",
    "clf = SVM(df, kernel='polynomial', degree=1)\n",
    "clf.fit_one_versus_all(C=1000)"
   ]
  },
  {
   "cell_type": "code",
   "execution_count": 19,
   "metadata": {
    "collapsed": false
   },
   "outputs": [
    {
     "data": {
      "image/png": "[encoded data removed]",
      "text/plain": [
       "<matplotlib.figure.Figure at 0x11d006f60>"
      ]
     },
     "metadata": {},
     "output_type": "display_data"
    }
   ],
   "source": [
    "clf.visualize()"
   ]
  },
  {
   "cell_type": "code",
   "execution_count": 20,
   "metadata": {
    "collapsed": false
   },
   "outputs": [
    {
     "data": {
      "text/plain": [
       "0.5"
      ]
     },
     "execution_count": 20,
     "metadata": {},
     "output_type": "execute_result"
    }
   ],
   "source": [
    "clf.cross_validate()\n",
    "clf.accuracy"
   ]
  },
  {
   "cell_type": "code",
   "execution_count": 28,
   "metadata": {
    "collapsed": false
   },
   "outputs": [
    {
     "data": {
      "text/plain": [
       "14"
      ]
     },
     "execution_count": 28,
     "metadata": {},
     "output_type": "execute_result"
    }
   ],
   "source": [
    "np.dot([1,2,3], [1,2,3])"
   ]
  },
  {
   "cell_type": "code",
   "execution_count": 275,
   "metadata": {
    "collapsed": false
   },
   "outputs": [],
   "source": [
    "df = pd.read_csv('ex8a.txt', sep=' |:', header=None, engine='python')\n",
    "df.columns = ['razred', 'c', 'a', 'd', 'b']\n",
    "df.drop(['c', 'd'], 1, inplace=True)"
   ]
  },
  {
   "cell_type": "code",
   "execution_count": 276,
   "metadata": {
    "collapsed": false
   },
   "outputs": [
    {
     "data": {
      "text/html": [
       "<div>\n",
       "<table border=\"1\" class=\"dataframe\">\n",
       "  <thead>\n",
       "    <tr style=\"text-align: right;\">\n",
       "      <th></th>\n",
       "      <th>razred</th>\n",
       "      <th>a</th>\n",
       "      <th>b</th>\n",
       "    </tr>\n",
       "  </thead>\n",
       "  <tbody>\n",
       "    <tr>\n",
       "      <th>858</th>\n",
       "      <td>1</td>\n",
       "      <td>0.994240</td>\n",
       "      <td>0.516667</td>\n",
       "    </tr>\n",
       "    <tr>\n",
       "      <th>859</th>\n",
       "      <td>1</td>\n",
       "      <td>0.964286</td>\n",
       "      <td>0.472807</td>\n",
       "    </tr>\n",
       "    <tr>\n",
       "      <th>860</th>\n",
       "      <td>1</td>\n",
       "      <td>0.975806</td>\n",
       "      <td>0.439474</td>\n",
       "    </tr>\n",
       "    <tr>\n",
       "      <th>861</th>\n",
       "      <td>1</td>\n",
       "      <td>0.989631</td>\n",
       "      <td>0.425439</td>\n",
       "    </tr>\n",
       "    <tr>\n",
       "      <th>862</th>\n",
       "      <td>1</td>\n",
       "      <td>0.996544</td>\n",
       "      <td>0.414912</td>\n",
       "    </tr>\n",
       "  </tbody>\n",
       "</table>\n",
       "</div>"
      ],
      "text/plain": [
       "     razred         a         b\n",
       "858       1  0.994240  0.516667\n",
       "859       1  0.964286  0.472807\n",
       "860       1  0.975806  0.439474\n",
       "861       1  0.989631  0.425439\n",
       "862       1  0.996544  0.414912"
      ]
     },
     "execution_count": 276,
     "metadata": {},
     "output_type": "execute_result"
    }
   ],
   "source": [
    "df[-5:]"
   ]
  },
  {
   "cell_type": "code",
   "execution_count": 277,
   "metadata": {
    "collapsed": false
   },
   "outputs": [],
   "source": [
    "clf = SVM(df, kernel='radial',g=100, C=10)"
   ]
  },
  {
   "cell_type": "code",
   "execution_count": 278,
   "metadata": {
    "collapsed": false
   },
   "outputs": [
    {
     "name": "stdout",
     "output_type": "stream",
     "text": [
      "1.15308042846\n"
     ]
    }
   ],
   "source": [
    "clf.fit_one_versus_one()"
   ]
  },
  {
   "cell_type": "code",
   "execution_count": 279,
   "metadata": {
    "collapsed": false
   },
   "outputs": [
    {
     "data": {
      "image/png": "[encoded data removed]",
      "text/plain": [
       "<matplotlib.figure.Figure at 0x105c0d6d8>"
      ]
     },
     "metadata": {},
     "output_type": "display_data"
    }
   ],
   "source": [
    "clf.visualize()"
   ]
  },
  {
   "cell_type": "code",
   "execution_count": 19,
   "metadata": {
    "collapsed": false
   },
   "outputs": [
    {
     "name": "stderr",
     "output_type": "stream",
     "text": [
      "/Users/lenarttreven/anaconda/lib/python3.5/site-packages/pandas/core/generic.py:3362: SettingWithCopyWarning: \n",
      "A value is trying to be set on a copy of a slice from a DataFrame\n",
      "\n",
      "See the caveats in the documentation: http://pandas.pydata.org/pandas-docs/stable/indexing.html#indexing-view-versus-copy\n",
      "  limit=limit, regex=regex)\n"
     ]
    },
    {
     "name": "stdout",
     "output_type": "stream",
     "text": [
      "5.63803082512\n",
      "2.60721312497\n",
      "1.63125842953\n"
     ]
    }
   ],
   "source": [
    "mu_vec1 = np.array([0,0])\n",
    "cov_mat1 = np.array([[2,1],[1,1]])\n",
    "x1_samples = np.random.multivariate_normal(mu_vec1, cov_mat1, 100)\n",
    "mu_vec1 = mu_vec1.reshape(1,2).T # to 1-col vector\n",
    "\n",
    "mu_vec2 = np.array([6,0])\n",
    "cov_mat2 = np.array([[2,1],[1,1]])\n",
    "x2_samples = np.random.multivariate_normal(mu_vec2, cov_mat2, 100)\n",
    "mu_vec2 = mu_vec2.reshape(1,2).T\n",
    "\n",
    "mu_vec3 = np.array([0,6])\n",
    "cov_mat3 = np.array([[2,1],[1,1]])\n",
    "x3_samples = np.random.multivariate_normal(mu_vec3, cov_mat3, 100)\n",
    "mu_vec3 = mu_vec3.reshape(1,2).T\n",
    "\n",
    "Y = np.array([0]*100 + [1]*100 + [2] * 100)\n",
    "X = np.concatenate((x1_samples,x2_samples, x3_samples,), axis = 0) \n",
    "data = np.column_stack((X, Y,))\n",
    "data = pd.DataFrame(data)\n",
    "data.columns = ['x', 'y', 'razred']\n",
    "clf = SVM(data, kernel='radial', g=1, C=100)\n",
    "clf.fit_one_versus_one()"
   ]
  },
  {
   "cell_type": "code",
   "execution_count": 20,
   "metadata": {
    "collapsed": false
   },
   "outputs": [
    {
     "name": "stderr",
     "output_type": "stream",
     "text": [
      "/Users/lenarttreven/anaconda/lib/python3.5/site-packages/pandas/core/generic.py:3362: SettingWithCopyWarning: \n",
      "A value is trying to be set on a copy of a slice from a DataFrame\n",
      "\n",
      "See the caveats in the documentation: http://pandas.pydata.org/pandas-docs/stable/indexing.html#indexing-view-versus-copy\n",
      "  limit=limit, regex=regex)\n"
     ]
    },
    {
     "data": {
      "image/png": "[encoded data removed]",
      "text/plain": [
       "<matplotlib.figure.Figure at 0x1224e1da0>"
      ]
     },
     "metadata": {},
     "output_type": "display_data"
    }
   ],
   "source": [
    "clf.visualize()"
   ]
  },
  {
   "cell_type": "code",
   "execution_count": 132,
   "metadata": {
    "collapsed": false
   },
   "outputs": [
    {
     "data": {
      "text/plain": [
       "2.0"
      ]
     },
     "execution_count": 132,
     "metadata": {},
     "output_type": "execute_result"
    }
   ],
   "source": [
    "np.mean([1,2,3])"
   ]
  },
  {
   "cell_type": "code",
   "execution_count": 159,
   "metadata": {
    "collapsed": false
   },
   "outputs": [
    {
     "data": {
      "text/plain": [
       "8"
      ]
     },
     "execution_count": 159,
     "metadata": {},
     "output_type": "execute_result"
    }
   ],
   "source": [
    "10^2"
   ]
  },
  {
   "cell_type": "code",
   "execution_count": 177,
   "metadata": {
    "collapsed": false
   },
   "outputs": [
    {
     "data": {
      "text/plain": [
       "1e-05"
      ]
     },
     "execution_count": 177,
     "metadata": {},
     "output_type": "execute_result"
    }
   ],
   "source": [
    "10 ** (-5)"
   ]
  },
  {
   "cell_type": "code",
   "execution_count": null,
   "metadata": {
    "collapsed": true
   },
   "outputs": [],
   "source": []
  }
 ],
 "metadata": {
  "anaconda-cloud": {},
  "kernelspec": {
   "display_name": "Python [conda root]",
   "language": "python",
   "name": "conda-root-py"
  },
  "language_info": {
   "codemirror_mode": {
    "name": "ipython",
    "version": 3
   },
   "file_extension": ".py",
   "mimetype": "text/x-python",
   "name": "python",
   "nbconvert_exporter": "python",
   "pygments_lexer": "ipython3",
   "version": "3.5.2"
  }
 },
 "nbformat": 4,
 "nbformat_minor": 0
}
