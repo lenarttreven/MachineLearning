{
 "cells": [
  {
   "cell_type": "code",
   "execution_count": 14,
   "metadata": {
    "collapsed": false
   },
   "outputs": [],
   "source": [
    "import matplotlib.pyplot as plt\n",
    "from matplotlib import style\n",
    "import numpy as np\n",
    "import pandas as pd\n",
    "from cvxpy import *\n",
    "from sklearn.utils import shuffle\n",
    "\n",
    "\n",
    "style.use('ggplot')\n",
    "\n",
    "\n",
    "class SVM():\n",
    "    def __init__(self, data, kernel=\"linear\", degree=1, g=100, k1=1, k2=1):\n",
    "        self.K = self.make_k(kernel, degree, g, k1, k2)\n",
    "        self.kernel = kernel\n",
    "        self.degree = degree\n",
    "        self.g = g\n",
    "        self.k1 = k1\n",
    "        self.k2 = k2\n",
    "        self.prepare_data(data)\n",
    "        self.data = data.copy()\n",
    "        self.normalized_data = normalize_df(data)\n",
    "        self.maximum = np.array(self.data[df.columns.difference(['razred'])].max())\n",
    "        self.minimum = np.array(self.data[df.columns.difference(['razred'])].min())\n",
    "     \n",
    "    def make_k(self, kernel, degree=1, g=100, k1=1, k2=1): \n",
    "        if kernel == 'linear':\n",
    "            def jedro(x1, x2):\n",
    "                return np.dot(x1, x2)\n",
    "            return jedro\n",
    "        elif kernel == 'polynomial':\n",
    "            def jedro(x1, x2):\n",
    "                return (1 + np.dot(x1, x2)) ** degree\n",
    "            return jedro\n",
    "        elif kernel == 'radial':\n",
    "            def jedro(x1, x2):\n",
    "                return np.exp(-g * np.linalg.norm(x1 - x2, axis=-1))\n",
    "            return jedro\n",
    "        elif kernel == 'neural':\n",
    "            def jedro(x1, x2):\n",
    "                return np.tanh(k1 * np.dot(x1, x2)+ k2) \n",
    "            return jedro\n",
    "    \n",
    "    def fit(self, C=50):\n",
    "        data = self.normalized_data\n",
    "        self.X = np.array(data.drop(['razred'], 1)).astype(np.float)\n",
    "        self.y = np.array(data['razred']).astype(np.float)\n",
    "        self.a, self.b = self._fit(self.X, self.y, C)\n",
    "      \n",
    "    \n",
    "    \n",
    "    def fit_one_versus_all(self, C=50):\n",
    "        self.delitve_razredov = dict()\n",
    "        for i in range(self.stevilo_razredov):\n",
    "            for j in range(i):\n",
    "                data = self.normalized_data.loc[self.normalized_data['razred'].isin([i, j])]\n",
    "                data.replace({i: 1, j: -1,}, inplace=True)\n",
    "                X = np.array(data.drop(['razred'], 1)).astype(np.float)\n",
    "                y = np.array(data['razred']).astype(np.float)\n",
    "                a, b = self._fit(X, y)\n",
    "                self.delitve_razredov[(i,j)] = (a, b)\n",
    "    \n",
    "    \n",
    "    def predict_one_versus_all(self, X):\n",
    "        glasovi = np.zeros(self.stevilo_razredov)\n",
    "        for i in range(self.stevilo_razredov):\n",
    "            for j in range(i):\n",
    "                data = self.normalized_data.loc[self.normalized_data['razred'].isin([i, j])]\n",
    "                data.replace({i: 1, j: -1,},inplace=True)\n",
    "                Xdf = np.array(data.drop(['razred'], 1)).astype(np.float)\n",
    "                ydf = np.array(data['razred']).astype(np.float)\n",
    "                glas = self._predict(X, Xdf, ydf, *self.delitve_razredov[(i,j)])\n",
    "                if glas == 1:\n",
    "                    glasovi[i] += 1\n",
    "                else:\n",
    "                    glasovi[j] += 1\n",
    "        return np.argmax(glasovi)\n",
    "                                         \n",
    "      \n",
    "    def prepare_data(self, df):\n",
    "        self.stevilo_razredov = df.razred.nunique()\n",
    "        self.to_indeks = dict()\n",
    "        self.to_name = dict()\n",
    "        for indeks, name in enumerate(df.razred.unique()):\n",
    "            self.to_indeks[name] = indeks\n",
    "            self.to_name[indeks] = name\n",
    "        df.replace(self.to_indeks, inplace=True)\n",
    "                      \n",
    "    \n",
    "    def cross_validate(self, k=10):\n",
    "        self.split_data = split_data(self.data, k)\n",
    "        n = len(self.split_data)\n",
    "        results = []\n",
    "        tests = []\n",
    "        for i in range(n):\n",
    "            test = self.split_data[i]\n",
    "            train = [df for num, df in enumerate(self.split_data) if not num == i]\n",
    "            train = pd.concat(train)\n",
    "            test_X = normalize_01(np.array(test.drop(['razred'], 1)).astype(np.float))\n",
    "            test_y = np.array(test['razred']).astype(np.float)\n",
    "            train_X = normalize_01(np.array(train.drop(['razred'], 1)).astype(np.float))\n",
    "            train_y = np.array(train['razred']).astype(np.float)\n",
    "            a, b = self._fit(train_X, train_y)\n",
    "            accuracy = self.test(test_X, test_y)\n",
    "            results.append((a, b, accuracy))\n",
    "            tests.append(accuracy)\n",
    "        self.results = results\n",
    "        self.accuracy_test = np.array(tests)\n",
    "        self.accuracy = np.mean(self.accuracy_test)\n",
    "           \n",
    "    def predict(self, X, df, ydf, a, b):\n",
    "        X = (X - self.minimum) / (self.maximum - self.minimum)\n",
    "        return self._predict(X, df, ydf, a, b)\n",
    "    \n",
    "    def _predict(self, X, df, ydf, a, b):\n",
    "        return np.sign(self.classifier(X, df, ydf, a, b))\n",
    "    \n",
    "    def classifier(self, X, Xdf, ydf, a, b):\n",
    "        n = len(Xdf)\n",
    "        result = 0\n",
    "        for i in range(n):\n",
    "            result += a[i] * ydf[i] * self.K(X, Xdf[i])\n",
    "        return result + b\n",
    "    \n",
    "    def test(self, X, y):\n",
    "        all_instances = 0\n",
    "        correct_instances = 0\n",
    "        for index, instance in enumerate(X):\n",
    "            all_instances += 1\n",
    "            if self.predict_one_versus_all(instance) == y[index]:\n",
    "                correct_instances += 1\n",
    "        accuracy = correct_instances/all_instances\n",
    "        return accuracy\n",
    "    \n",
    "    \n",
    "    def visualize(self):\n",
    "        if len(self.data.columns) != 3:\n",
    "            return 'Number of attribute dimensions is not 2'\n",
    "        self.fig = plt.figure()\n",
    "        self.ax = self.fig.add_subplot(1,1,1)\n",
    "        df = self.normalized_data\n",
    "        \n",
    "        #narišemo vse različne razrede kot scatter graf:\n",
    "        seznam_razredov = df.razred.unique()\n",
    "        x_stolpec, y_stolpec = df.columns.difference(['razred'])\n",
    "\n",
    "        n = len(seznam_razredov)       \n",
    "        color=iter(plt.cm.rainbow(np.linspace(0,1,n)))\n",
    "        \n",
    "        \n",
    "        for razred in seznam_razredov:\n",
    "            data = df.loc[df['razred'] == razred]\n",
    "            c=next(color)\n",
    "            self.ax.scatter(data[x_stolpec], data[y_stolpec], c=c)\n",
    "           \n",
    "        \n",
    "        #narišemo vse meje med posameznimi razredi:\n",
    "        for i in range(self.stevilo_razredov):\n",
    "            for j in range(i):\n",
    "                data = self.normalized_data.loc[self.normalized_data['razred'].isin([i, j])]\n",
    "                data = self.normalized_data.loc[self.normalized_data['razred'].isin([i, j])]\n",
    "                data.replace({i: 1, j: -1,},inplace=True)\n",
    "                Xdf = np.array(data.drop(['razred'], 1)).astype(np.float)\n",
    "                ydf = np.array(data['razred']).astype(np.float)\n",
    "                \n",
    "                h = .01  # step size in the mesh\n",
    "                # create a mesh to plot in\n",
    "                x_min, x_max = -0.2, 1.2\n",
    "                y_min, y_max = -0.2, 1.2\n",
    "                xx, yy = np.meshgrid(np.arange(x_min, x_max, h), np.arange(y_min, y_max, h))\n",
    "\n",
    "                # Plot the decision boundary. For that, we will assign a color to each\n",
    "                # point in the mesh [x_min, m_max]x[y_min, y_max].\n",
    "                Z = self.classifier(np.c_[xx.ravel(), yy.ravel()], Xdf, ydf, *self.delitve_razredov[(i,j)])\n",
    "\n",
    "                # Put the result into a color plot\n",
    "                Z = Z.reshape(xx.shape)\n",
    "                plt.contour(xx, yy, Z, levels=[-1 , 0, 1], colors=('grey', 'black', 'grey'), linestyles=('dashed', 'solid', 'dashed'))\n",
    "              \n",
    "        plt.show()\n",
    "            \n",
    "        \n",
    "        \n",
    "        \n",
    "        \n",
    "#         first_class = df.loc[df['razred'] == 1]\n",
    "#         second_class = df.loc[df['razred'] == -1]\n",
    "#         fst_att, snd_att, _ = first_class.columns\n",
    "#         self.ax.scatter(first_class[fst_att], first_class[snd_att], color = 'red')\n",
    "#         self.ax.scatter(second_class[fst_att], second_class[snd_att], color = 'blue')\n",
    "        \n",
    "#         h = .001  # step size in the mesh\n",
    "#         # create a mesh to plot in\n",
    "#         x_min, x_max = -0.2, 1.2\n",
    "#         y_min, y_max = -0.2, 1.2\n",
    "#         xx, yy = np.meshgrid(np.arange(x_min, x_max, h), np.arange(y_min, y_max, h))\n",
    "        \n",
    "        \n",
    "#         # Plot the decision boundary. For that, we will assign a color to each\n",
    "#         # point in the mesh [x_min, m_max]x[y_min, y_max].\n",
    "#         Z = self.classifier(np.c_[xx.ravel(), yy.ravel()])\n",
    "\n",
    "#         # Put the result into a color plot\n",
    "#         Z = Z.reshape(xx.shape)\n",
    "#         plt.contour(xx, yy, Z, levels=[-1 , 0, 1], colors=('blue', 'black', 'red'), linestyles=('dashed', 'solid', 'dashed'))\n",
    "#         plt.show()\n",
    "        \n",
    "    def _fit(self, X, y, C=50):\n",
    "        \n",
    "        # train to get w and b for hyperplane\n",
    "        # solving optimizational problem for min ||w|| + C Sum(e_i)\n",
    "        # subject to y_i (w^t x_i + b) >= 1 - e_i and e_i >= 0 for i = 1, ... , len data[0]\n",
    "\n",
    "        n = len(X)\n",
    "        m = len(X[0])\n",
    "\n",
    "        b = Variable(1)\n",
    "        e = Variable(n)\n",
    "        a = Variable(n)\n",
    "\n",
    "\n",
    "        # we have to generate matrix from X and y\n",
    "        # we create matrix based on rigth kernel  \n",
    "        A = np.zeros(shape=(n,n))\n",
    "        for i in range(n):\n",
    "            for j in range(n):\n",
    "                A[i][j] = self.K(X[i], X[j])\n",
    "\n",
    "        obj = Maximize(sum_entries(a) - 1/2 * quad_form(a, np.dot(np.dot(np.diag(y), A), np.diag(y))))\n",
    "\n",
    "        constraints = [a >= 0, e >= 0, a <= C, a.T * y == 0]\n",
    "\n",
    "        for i in range(n):\n",
    "            constraints.append(1 - e[i]- y[i] * (a.T * np.multiply(np.diag(y), A[i])  + b) <= 0)\n",
    "\n",
    "        prob = Problem(obj, constraints)\n",
    "        prob.solve()\n",
    "\n",
    "        a = np.squeeze(np.asarray(a.value))\n",
    "        b = b.value\n",
    "        return (a, b)\n",
    "        \n",
    "        \n",
    "    def _fit_primal(self, X, y, C=500):\n",
    "        # train to get w and b for hyperplane\n",
    "        # solving optimizational problem for min ||w|| + C Sum(e_i)\n",
    "        # subject to y_i (w^t x_i + b) >= 1 - e_i and e_i >= 0 for i = 1, ... , len data[0]\n",
    "\n",
    "        n = len(X)\n",
    "        m = len(X[0])\n",
    "\n",
    "        w = Variable(m)\n",
    "        b = Variable(1)\n",
    "        e = Variable(n)\n",
    "        \n",
    "        if C == 0:\n",
    "            obj = Minimize(norm(w))\n",
    "\n",
    "            constraints = []\n",
    "\n",
    "            for i in range(n):\n",
    "                constraints.append(1 - y[i] * (w.T * X[i] + b) <= 0)\n",
    "\n",
    "            prob = Problem(obj, constraints)\n",
    "            prob.solve()\n",
    "\n",
    "            w = np.squeeze(np.asarray(w.T.value))\n",
    "            b = b.value        \n",
    "            return (w, b)\n",
    "        \n",
    "        obj = Minimize(norm(w) + C * sum_entries(e))\n",
    "\n",
    "        constraints = [e >= 0]\n",
    "\n",
    "        for i in range(n):\n",
    "            constraints.append(1 - e[i]- y[i] * (w.T * X[i] + b) <= 0)\n",
    "\n",
    "        prob = Problem(obj, constraints)\n",
    "        prob.solve()\n",
    "\n",
    "        w = np.squeeze(np.asarray(w.T.value))\n",
    "        b = b.value        \n",
    "        return (w, b)\n",
    "        \n",
    "\n",
    "\n",
    "def normalize_df(df):\n",
    "    df[df.columns.difference(['razred'])] = df[df.columns.difference(['razred'])].apply(lambda x: (x - x.min()) / (x.max() - x.min()))\n",
    "    return df    \n",
    "    \n",
    "def normalize_01(X):\n",
    "    X_normed = (X - X.min(0)) / X.ptp(0)\n",
    "    return X_normed\n",
    "    \n",
    "def split_data(data, k=10):\n",
    "    '''\n",
    "    :param data:\n",
    "    :param k:\n",
    "    :return:\n",
    "    '''\n",
    "    data = shuffle(data)\n",
    "    data.reset_index(drop=True,inplace=True)\n",
    "    split_data = partition(data, k)\n",
    "    return split_data\n",
    "        \n",
    "def partition(lst, n):\n",
    "    '''\n",
    "    :param lst: array of elemnts\n",
    "    :param n: number of partitions\n",
    "    :return: array partitioned into n arrays\n",
    "    '''\n",
    "    division = len(lst) / n\n",
    "    return [lst[round(division * i):round(division * (i + 1))] for i in range(n)]\n",
    "\n",
    "\n",
    "\n",
    "# df = pd.read_csv('breast-cancer-wisconsin.data.txt')\n",
    "# df.replace('?', -99, inplace=True)\n",
    "# df.drop(['id'], 1, inplace=True)\n",
    "# df[['bare_nuclei']] = df[['bare_nuclei']].astype(float)\n",
    "#df.rename(columns={'class': 'razred'}, inplace=True)\n",
    "\n",
    "# df.loc[df['razred'] == 2, 'razred'] = 1\n",
    "# df.loc[df['razred'] == 4, 'razred'] = -1\n",
    "\n",
    "\n",
    "# X = df.drop(['razred'], 1)\n",
    "# y = df['razred']\n",
    "\n",
    "# X = np.array(X).astype(np.float)\n",
    "\n",
    "\n",
    "# clf = SVM(df)\n",
    "\n",
    "# clf.cross_validate()\n",
    "\n",
    "#################################\n",
    "\n",
    "# df = pd.read_csv('bezdekIris.txt', sep=\",\", header=None)\n",
    "# df.columns = ['sepal_length', 'sepal_width', 'petal_length', 'petal_width', 'razred' ]\n",
    "\n",
    "# df = df[df.razred != 'Iris-versicolor']\n",
    "\n",
    "\n",
    "# df.replace({'Iris-setosa': 1, 'Iris-virginica': -1,}, inplace=True)\n",
    "# df.reset_index()\n",
    "\n",
    "\n",
    "# df.drop(['petal_length', 'petal_width'], 1, inplace=True)\n",
    "\n",
    "# # X = df.drop(['razred'], 1)\n",
    "# # y = df['razred']\n",
    "\n",
    "# # X = np.array(X).astype(np.float)\n",
    "# # y = np.array(y).astype(np.float)\n",
    "\n",
    "\n",
    "# clf = SVM(df)\n",
    "\n",
    "# clf.cross_validate()\n",
    "\n",
    "\n",
    "###################################\n",
    "\n",
    "# df = pd.read_csv('bezdekIris.txt', sep=\",\", header=None)\n",
    "# df.columns = ['sepal_length', 'sepal_width', 'petal_length', 'petal_width', 'razred' ]\n",
    "\n",
    "# df = df[df.razred != 'Iris-setosa']\n",
    "\n",
    "\n",
    "# df.replace({'Iris-versicolor': 1, 'Iris-virginica': -1,}, inplace=True)\n",
    "# df.reset_index()\n",
    "\n",
    "\n",
    "# df.drop(['petal_length', 'petal_width'], 1, inplace=True)\n",
    "\n",
    "# X = df.drop(['razred'], 1)\n",
    "# y = df['razred']\n",
    "\n",
    "# X = np.array(X).astype(np.float)\n",
    "# y = np.array(y).astype(np.float)\n",
    "\n",
    "\n",
    "# clf = SVM(df)\n",
    "\n",
    "# clf.cross_validate()\n",
    "\n",
    "####################################\n",
    "\n",
    "# df = pd.read_csv('bezdekIris.txt', sep=\",\", header=None)\n",
    "# df.columns = ['sepal_length', 'sepal_width', 'petal_length', 'petal_width', 'razred' ]\n",
    "\n",
    "# df = df[df.razred != 'Iris-virginica']\n",
    "\n",
    "\n",
    "# df.replace({'Iris-setosa': 1, 'Iris-versicolor': -1,}, inplace=True)\n",
    "# df.reset_index()\n",
    "\n",
    "\n",
    "# df.drop(['petal_length', 'petal_width'], 1, inplace=True)\n",
    "\n",
    "\n",
    "# clf = SVM(df)\n",
    "\n",
    "# clf.cross_validate()\n"
   ]
  },
  {
   "cell_type": "code",
   "execution_count": 15,
   "metadata": {
    "collapsed": false
   },
   "outputs": [
    {
     "data": {
      "text/html": [
       "<div>\n",
       "<table border=\"1\" class=\"dataframe\">\n",
       "  <thead>\n",
       "    <tr style=\"text-align: right;\">\n",
       "      <th></th>\n",
       "      <th>dolzina_casnega_lista</th>\n",
       "      <th>sirina_casnega_lista</th>\n",
       "      <th>razred</th>\n",
       "    </tr>\n",
       "  </thead>\n",
       "  <tbody>\n",
       "    <tr>\n",
       "      <th>0</th>\n",
       "      <td>5.0</td>\n",
       "      <td>3.6</td>\n",
       "      <td>Iris-setosa</td>\n",
       "    </tr>\n",
       "    <tr>\n",
       "      <th>1</th>\n",
       "      <td>4.8</td>\n",
       "      <td>3.1</td>\n",
       "      <td>Iris-setosa</td>\n",
       "    </tr>\n",
       "    <tr>\n",
       "      <th>2</th>\n",
       "      <td>6.6</td>\n",
       "      <td>2.9</td>\n",
       "      <td>Iris-versicolor</td>\n",
       "    </tr>\n",
       "    <tr>\n",
       "      <th>3</th>\n",
       "      <td>5.8</td>\n",
       "      <td>2.6</td>\n",
       "      <td>Iris-versicolor</td>\n",
       "    </tr>\n",
       "    <tr>\n",
       "      <th>4</th>\n",
       "      <td>4.6</td>\n",
       "      <td>3.2</td>\n",
       "      <td>Iris-setosa</td>\n",
       "    </tr>\n",
       "    <tr>\n",
       "      <th>5</th>\n",
       "      <td>4.8</td>\n",
       "      <td>3.0</td>\n",
       "      <td>Iris-setosa</td>\n",
       "    </tr>\n",
       "    <tr>\n",
       "      <th>6</th>\n",
       "      <td>6.3</td>\n",
       "      <td>2.3</td>\n",
       "      <td>Iris-versicolor</td>\n",
       "    </tr>\n",
       "    <tr>\n",
       "      <th>7</th>\n",
       "      <td>5.1</td>\n",
       "      <td>3.8</td>\n",
       "      <td>Iris-setosa</td>\n",
       "    </tr>\n",
       "    <tr>\n",
       "      <th>8</th>\n",
       "      <td>4.7</td>\n",
       "      <td>3.2</td>\n",
       "      <td>Iris-setosa</td>\n",
       "    </tr>\n",
       "    <tr>\n",
       "      <th>9</th>\n",
       "      <td>6.5</td>\n",
       "      <td>2.8</td>\n",
       "      <td>Iris-versicolor</td>\n",
       "    </tr>\n",
       "  </tbody>\n",
       "</table>\n",
       "</div>"
      ],
      "text/plain": [
       "   dolzina_casnega_lista  sirina_casnega_lista           razred\n",
       "0                    5.0                   3.6      Iris-setosa\n",
       "1                    4.8                   3.1      Iris-setosa\n",
       "2                    6.6                   2.9  Iris-versicolor\n",
       "3                    5.8                   2.6  Iris-versicolor\n",
       "4                    4.6                   3.2      Iris-setosa\n",
       "5                    4.8                   3.0      Iris-setosa\n",
       "6                    6.3                   2.3  Iris-versicolor\n",
       "7                    5.1                   3.8      Iris-setosa\n",
       "8                    4.7                   3.2      Iris-setosa\n",
       "9                    6.5                   2.8  Iris-versicolor"
      ]
     },
     "execution_count": 15,
     "metadata": {},
     "output_type": "execute_result"
    }
   ],
   "source": [
    "df = pd.read_csv('bezdekIris.txt', sep=\",\", header=None)\n",
    "df.columns = ['dolzina_casnega_lista', 'sirina_casnega_lista', 'dolzina_vencnega_lista', 'sirina_vencnega_lista', 'razred' ]\n",
    "df = shuffle(df)\n",
    "df.reset_index(drop=True,inplace=True)\n",
    "df.reset_index(drop=True,inplace=True)\n",
    "df.drop(['dolzina_vencnega_lista', 'sirina_vencnega_lista'], 1, inplace=True)\n",
    "#df = df[df.razred != 'Iris-virginica']\n",
    "df[:10]"
   ]
  },
  {
   "cell_type": "code",
   "execution_count": 16,
   "metadata": {
    "collapsed": false
   },
   "outputs": [
    {
     "name": "stderr",
     "output_type": "stream",
     "text": [
      "/Users/lenarttreven/anaconda/lib/python3.5/site-packages/pandas/core/generic.py:3362: SettingWithCopyWarning: \n",
      "A value is trying to be set on a copy of a slice from a DataFrame\n",
      "\n",
      "See the caveats in the documentation: http://pandas.pydata.org/pandas-docs/stable/indexing.html#indexing-view-versus-copy\n",
      "  limit=limit, regex=regex)\n"
     ]
    }
   ],
   "source": [
    "#df = df[df.razred != 'Iris-virginica']\n",
    "#df.replace({'Iris-setosa': 1, 'Iris-versicolor': -1,}, inplace=True)\n",
    "#df.drop(['dolzina_vencnega_lista', 'sirina_vencnega_lista'], 1, inplace=True)\n",
    "#df.reset_index()\n",
    "#df[:10]\n",
    "clf = SVM(df, kernel='linear')\n",
    "clf.fit_one_versus_all(C=1)"
   ]
  },
  {
   "cell_type": "code",
   "execution_count": 17,
   "metadata": {
    "collapsed": false
   },
   "outputs": [
    {
     "data": {
      "text/html": [
       "<div>\n",
       "<table border=\"1\" class=\"dataframe\">\n",
       "  <thead>\n",
       "    <tr style=\"text-align: right;\">\n",
       "      <th></th>\n",
       "      <th>dolzina_casnega_lista</th>\n",
       "      <th>sirina_casnega_lista</th>\n",
       "      <th>razred</th>\n",
       "    </tr>\n",
       "  </thead>\n",
       "  <tbody>\n",
       "    <tr>\n",
       "      <th>0</th>\n",
       "      <td>0.194444</td>\n",
       "      <td>0.666667</td>\n",
       "      <td>0</td>\n",
       "    </tr>\n",
       "    <tr>\n",
       "      <th>1</th>\n",
       "      <td>0.138889</td>\n",
       "      <td>0.458333</td>\n",
       "      <td>0</td>\n",
       "    </tr>\n",
       "    <tr>\n",
       "      <th>2</th>\n",
       "      <td>0.638889</td>\n",
       "      <td>0.375000</td>\n",
       "      <td>1</td>\n",
       "    </tr>\n",
       "    <tr>\n",
       "      <th>3</th>\n",
       "      <td>0.416667</td>\n",
       "      <td>0.250000</td>\n",
       "      <td>1</td>\n",
       "    </tr>\n",
       "    <tr>\n",
       "      <th>4</th>\n",
       "      <td>0.083333</td>\n",
       "      <td>0.500000</td>\n",
       "      <td>0</td>\n",
       "    </tr>\n",
       "    <tr>\n",
       "      <th>5</th>\n",
       "      <td>0.138889</td>\n",
       "      <td>0.416667</td>\n",
       "      <td>0</td>\n",
       "    </tr>\n",
       "    <tr>\n",
       "      <th>6</th>\n",
       "      <td>0.555556</td>\n",
       "      <td>0.125000</td>\n",
       "      <td>1</td>\n",
       "    </tr>\n",
       "    <tr>\n",
       "      <th>7</th>\n",
       "      <td>0.222222</td>\n",
       "      <td>0.750000</td>\n",
       "      <td>0</td>\n",
       "    </tr>\n",
       "    <tr>\n",
       "      <th>8</th>\n",
       "      <td>0.111111</td>\n",
       "      <td>0.500000</td>\n",
       "      <td>0</td>\n",
       "    </tr>\n",
       "    <tr>\n",
       "      <th>9</th>\n",
       "      <td>0.611111</td>\n",
       "      <td>0.333333</td>\n",
       "      <td>1</td>\n",
       "    </tr>\n",
       "  </tbody>\n",
       "</table>\n",
       "</div>"
      ],
      "text/plain": [
       "   dolzina_casnega_lista  sirina_casnega_lista  razred\n",
       "0               0.194444              0.666667       0\n",
       "1               0.138889              0.458333       0\n",
       "2               0.638889              0.375000       1\n",
       "3               0.416667              0.250000       1\n",
       "4               0.083333              0.500000       0\n",
       "5               0.138889              0.416667       0\n",
       "6               0.555556              0.125000       1\n",
       "7               0.222222              0.750000       0\n",
       "8               0.111111              0.500000       0\n",
       "9               0.611111              0.333333       1"
      ]
     },
     "execution_count": 17,
     "metadata": {},
     "output_type": "execute_result"
    }
   ],
   "source": [
    "clf.normalized_data[:10]"
   ]
  },
  {
   "cell_type": "code",
   "execution_count": 18,
   "metadata": {
    "collapsed": false,
    "scrolled": true
   },
   "outputs": [],
   "source": [
    "# #clf.fit(C=10)\n",
    "# vsi = 0\n",
    "# prav = 0\n",
    "# A = np.array(clf.normalized_data.drop(['razred'], 1)).astype(np.float)\n",
    "# y = np.array(clf.normalized_data['razred']).astype(np.float)\n",
    "# for i in range(len(A)):\n",
    "#     napoved = clf.predict_one_versus_all(A[i])\n",
    "#     if napoved == y[i]:\n",
    "#         prav += 1\n",
    "#     vsi += 1\n",
    "# print(prav/vsi)"
   ]
  },
  {
   "cell_type": "code",
   "execution_count": 19,
   "metadata": {
    "collapsed": false,
    "scrolled": false
   },
   "outputs": [],
   "source": [
    "#clf.test(A, y)"
   ]
  },
  {
   "cell_type": "code",
   "execution_count": 20,
   "metadata": {
    "collapsed": false
   },
   "outputs": [],
   "source": [
    "#clf.cross_validate(k=3)"
   ]
  },
  {
   "cell_type": "code",
   "execution_count": 21,
   "metadata": {
    "collapsed": false
   },
   "outputs": [],
   "source": [
    "#clf.accuracy"
   ]
  },
  {
   "cell_type": "code",
   "execution_count": 22,
   "metadata": {
    "collapsed": false
   },
   "outputs": [
    {
     "name": "stderr",
     "output_type": "stream",
     "text": [
      "/Users/lenarttreven/anaconda/lib/python3.5/site-packages/pandas/core/generic.py:3362: SettingWithCopyWarning: \n",
      "A value is trying to be set on a copy of a slice from a DataFrame\n",
      "\n",
      "See the caveats in the documentation: http://pandas.pydata.org/pandas-docs/stable/indexing.html#indexing-view-versus-copy\n",
      "  limit=limit, regex=regex)\n"
     ]
    },
    {
     "data": {
      "image/png": "[encoded data removed]",
      "text/plain": [
       "<matplotlib.figure.Figure at 0x122c58390>"
      ]
     },
     "metadata": {},
     "output_type": "display_data"
    }
   ],
   "source": [
    "clf.visualize()"
   ]
  },
  {
   "cell_type": "code",
   "execution_count": 164,
   "metadata": {
    "collapsed": false
   },
   "outputs": [
    {
     "data": {
      "text/html": [
       "<div>\n",
       "<table border=\"1\" class=\"dataframe\">\n",
       "  <thead>\n",
       "    <tr style=\"text-align: right;\">\n",
       "      <th></th>\n",
       "      <th>clump_thickness</th>\n",
       "      <th>unif_cell_size</th>\n",
       "      <th>unif_cell_shape</th>\n",
       "      <th>marg_adhesion</th>\n",
       "      <th>single_epith_cell_size</th>\n",
       "      <th>bare_nuclei</th>\n",
       "      <th>bland_chrom</th>\n",
       "      <th>norm_nucleoli</th>\n",
       "      <th>mitoses</th>\n",
       "      <th>razred</th>\n",
       "    </tr>\n",
       "  </thead>\n",
       "  <tbody>\n",
       "    <tr>\n",
       "      <th>0</th>\n",
       "      <td>5</td>\n",
       "      <td>1</td>\n",
       "      <td>1</td>\n",
       "      <td>1</td>\n",
       "      <td>2</td>\n",
       "      <td>1.0</td>\n",
       "      <td>3</td>\n",
       "      <td>1</td>\n",
       "      <td>1</td>\n",
       "      <td>1</td>\n",
       "    </tr>\n",
       "    <tr>\n",
       "      <th>1</th>\n",
       "      <td>5</td>\n",
       "      <td>4</td>\n",
       "      <td>4</td>\n",
       "      <td>5</td>\n",
       "      <td>7</td>\n",
       "      <td>10.0</td>\n",
       "      <td>3</td>\n",
       "      <td>2</td>\n",
       "      <td>1</td>\n",
       "      <td>1</td>\n",
       "    </tr>\n",
       "    <tr>\n",
       "      <th>2</th>\n",
       "      <td>3</td>\n",
       "      <td>1</td>\n",
       "      <td>1</td>\n",
       "      <td>1</td>\n",
       "      <td>2</td>\n",
       "      <td>2.0</td>\n",
       "      <td>3</td>\n",
       "      <td>1</td>\n",
       "      <td>1</td>\n",
       "      <td>1</td>\n",
       "    </tr>\n",
       "    <tr>\n",
       "      <th>3</th>\n",
       "      <td>6</td>\n",
       "      <td>8</td>\n",
       "      <td>8</td>\n",
       "      <td>1</td>\n",
       "      <td>3</td>\n",
       "      <td>4.0</td>\n",
       "      <td>3</td>\n",
       "      <td>7</td>\n",
       "      <td>1</td>\n",
       "      <td>1</td>\n",
       "    </tr>\n",
       "    <tr>\n",
       "      <th>4</th>\n",
       "      <td>4</td>\n",
       "      <td>1</td>\n",
       "      <td>1</td>\n",
       "      <td>3</td>\n",
       "      <td>2</td>\n",
       "      <td>1.0</td>\n",
       "      <td>3</td>\n",
       "      <td>1</td>\n",
       "      <td>1</td>\n",
       "      <td>1</td>\n",
       "    </tr>\n",
       "    <tr>\n",
       "      <th>5</th>\n",
       "      <td>8</td>\n",
       "      <td>10</td>\n",
       "      <td>10</td>\n",
       "      <td>8</td>\n",
       "      <td>7</td>\n",
       "      <td>10.0</td>\n",
       "      <td>9</td>\n",
       "      <td>7</td>\n",
       "      <td>1</td>\n",
       "      <td>-1</td>\n",
       "    </tr>\n",
       "    <tr>\n",
       "      <th>6</th>\n",
       "      <td>1</td>\n",
       "      <td>1</td>\n",
       "      <td>1</td>\n",
       "      <td>1</td>\n",
       "      <td>2</td>\n",
       "      <td>10.0</td>\n",
       "      <td>3</td>\n",
       "      <td>1</td>\n",
       "      <td>1</td>\n",
       "      <td>1</td>\n",
       "    </tr>\n",
       "    <tr>\n",
       "      <th>7</th>\n",
       "      <td>2</td>\n",
       "      <td>1</td>\n",
       "      <td>2</td>\n",
       "      <td>1</td>\n",
       "      <td>2</td>\n",
       "      <td>1.0</td>\n",
       "      <td>3</td>\n",
       "      <td>1</td>\n",
       "      <td>1</td>\n",
       "      <td>1</td>\n",
       "    </tr>\n",
       "    <tr>\n",
       "      <th>8</th>\n",
       "      <td>2</td>\n",
       "      <td>1</td>\n",
       "      <td>1</td>\n",
       "      <td>1</td>\n",
       "      <td>2</td>\n",
       "      <td>1.0</td>\n",
       "      <td>1</td>\n",
       "      <td>1</td>\n",
       "      <td>5</td>\n",
       "      <td>1</td>\n",
       "    </tr>\n",
       "    <tr>\n",
       "      <th>9</th>\n",
       "      <td>4</td>\n",
       "      <td>2</td>\n",
       "      <td>1</td>\n",
       "      <td>1</td>\n",
       "      <td>2</td>\n",
       "      <td>1.0</td>\n",
       "      <td>2</td>\n",
       "      <td>1</td>\n",
       "      <td>1</td>\n",
       "      <td>1</td>\n",
       "    </tr>\n",
       "  </tbody>\n",
       "</table>\n",
       "</div>"
      ],
      "text/plain": [
       "   clump_thickness  unif_cell_size  unif_cell_shape  marg_adhesion  \\\n",
       "0                5               1                1              1   \n",
       "1                5               4                4              5   \n",
       "2                3               1                1              1   \n",
       "3                6               8                8              1   \n",
       "4                4               1                1              3   \n",
       "5                8              10               10              8   \n",
       "6                1               1                1              1   \n",
       "7                2               1                2              1   \n",
       "8                2               1                1              1   \n",
       "9                4               2                1              1   \n",
       "\n",
       "   single_epith_cell_size  bare_nuclei  bland_chrom  norm_nucleoli  mitoses  \\\n",
       "0                       2          1.0            3              1        1   \n",
       "1                       7         10.0            3              2        1   \n",
       "2                       2          2.0            3              1        1   \n",
       "3                       3          4.0            3              7        1   \n",
       "4                       2          1.0            3              1        1   \n",
       "5                       7         10.0            9              7        1   \n",
       "6                       2         10.0            3              1        1   \n",
       "7                       2          1.0            3              1        1   \n",
       "8                       2          1.0            1              1        5   \n",
       "9                       2          1.0            2              1        1   \n",
       "\n",
       "   razred  \n",
       "0       1  \n",
       "1       1  \n",
       "2       1  \n",
       "3       1  \n",
       "4       1  \n",
       "5      -1  \n",
       "6       1  \n",
       "7       1  \n",
       "8       1  \n",
       "9       1  "
      ]
     },
     "execution_count": 164,
     "metadata": {},
     "output_type": "execute_result"
    }
   ],
   "source": [
    "df = pd.read_csv('breast-cancer-wisconsin.data.txt')\n",
    "df.replace('?', -99, inplace=True)\n",
    "df.drop(['id'], 1, inplace=True)\n",
    "df[['bare_nuclei']] = df[['bare_nuclei']].astype(float)\n",
    "df.rename(columns={'class': 'razred'}, inplace=True)\n",
    "df.loc[df['razred'] == 2, 'razred'] = 1\n",
    "df.loc[df['razred'] == 4, 'razred'] = -1\n",
    "df[:10]"
   ]
  },
  {
   "cell_type": "code",
   "execution_count": 165,
   "metadata": {
    "collapsed": false
   },
   "outputs": [],
   "source": [
    "clf = SVM(df)"
   ]
  },
  {
   "cell_type": "code",
   "execution_count": 166,
   "metadata": {
    "collapsed": false
   },
   "outputs": [],
   "source": [
    "clf.fit()"
   ]
  },
  {
   "cell_type": "code",
   "execution_count": 43,
   "metadata": {
    "collapsed": false
   },
   "outputs": [
    {
     "name": "stdout",
     "output_type": "stream",
     "text": [
      "True\n",
      "True\n",
      "True\n",
      "True\n",
      "True\n",
      "True\n",
      "True\n",
      "True\n",
      "True\n",
      "True\n",
      "True\n",
      "True\n",
      "True\n",
      "True\n",
      "True\n",
      "True\n",
      "True\n",
      "True\n",
      "True\n",
      "True\n"
     ]
    }
   ],
   "source": [
    "clf.cross_validate()"
   ]
  },
  {
   "cell_type": "code",
   "execution_count": 44,
   "metadata": {
    "collapsed": false
   },
   "outputs": [
    {
     "data": {
      "text/plain": [
       "0.94708074534161502"
      ]
     },
     "execution_count": 44,
     "metadata": {},
     "output_type": "execute_result"
    }
   ],
   "source": [
    "clf.accuracy"
   ]
  },
  {
   "cell_type": "code",
   "execution_count": 167,
   "metadata": {
    "collapsed": false
   },
   "outputs": [
    {
     "data": {
      "text/plain": [
       "-1.0"
      ]
     },
     "execution_count": 167,
     "metadata": {},
     "output_type": "execute_result"
    }
   ],
   "source": [
    "clf.predict([5, 4, 4, 5, 7, 10, 3, 2, 1])"
   ]
  },
  {
   "cell_type": "code",
   "execution_count": 432,
   "metadata": {
    "collapsed": false
   },
   "outputs": [],
   "source": [
    "df = pd.read_csv('bezdekIris.txt', sep=\",\", header=None)\n",
    "df.columns = ['sepal_length', 'sepal_width', 'petal_length', 'petal_width', 'razred' ]\n",
    "\n",
    "df = df[df.razred != 'Iris-setosa']\n",
    "\n",
    "\n",
    "df.replace({'Iris-versicolor': 1, 'Iris-virginica': -1,}, inplace=True)\n",
    "df.reset_index()\n",
    "\n",
    "\n",
    "df.drop(['petal_length', 'petal_width'], 1, inplace=True)\n",
    "\n",
    "\n",
    "clf = SVM(df, kernel='radial')\n",
    "clf.fit(C=10)"
   ]
  },
  {
   "cell_type": "code",
   "execution_count": 433,
   "metadata": {
    "collapsed": false
   },
   "outputs": [
    {
     "data": {
      "image/png": "[encoded data removed]",
      "text/plain": [
       "<matplotlib.figure.Figure at 0x1205e2dd8>"
      ]
     },
     "metadata": {},
     "output_type": "display_data"
    }
   ],
   "source": [
    "clf.visualize()"
   ]
  },
  {
   "cell_type": "code",
   "execution_count": null,
   "metadata": {
    "collapsed": false
   },
   "outputs": [],
   "source": [
    "clf.cross_validate()\n",
    "clf.accuracy"
   ]
  },
  {
   "cell_type": "code",
   "execution_count": 378,
   "metadata": {
    "collapsed": false
   },
   "outputs": [
    {
     "data": {
      "text/plain": [
       "1.9287498479639178e-22"
      ]
     },
     "execution_count": 378,
     "metadata": {},
     "output_type": "execute_result"
    }
   ],
   "source": [
    "np.exp(-50)"
   ]
  },
  {
   "cell_type": "code",
   "execution_count": 8,
   "metadata": {
    "collapsed": false
   },
   "outputs": [],
   "source": [
    "df = pd.read_csv('ex8a.txt', sep=' |:', header=None, engine='python')\n",
    "df.columns = ['razred', 'c', 'a', 'd', 'b']\n",
    "df.drop(['c', 'd'], 1, inplace=True)"
   ]
  },
  {
   "cell_type": "code",
   "execution_count": 9,
   "metadata": {
    "collapsed": false
   },
   "outputs": [
    {
     "data": {
      "text/html": [
       "<div>\n",
       "<table border=\"1\" class=\"dataframe\">\n",
       "  <thead>\n",
       "    <tr style=\"text-align: right;\">\n",
       "      <th></th>\n",
       "      <th>razred</th>\n",
       "      <th>a</th>\n",
       "      <th>b</th>\n",
       "    </tr>\n",
       "  </thead>\n",
       "  <tbody>\n",
       "    <tr>\n",
       "      <th>858</th>\n",
       "      <td>1</td>\n",
       "      <td>0.994240</td>\n",
       "      <td>0.516667</td>\n",
       "    </tr>\n",
       "    <tr>\n",
       "      <th>859</th>\n",
       "      <td>1</td>\n",
       "      <td>0.964286</td>\n",
       "      <td>0.472807</td>\n",
       "    </tr>\n",
       "    <tr>\n",
       "      <th>860</th>\n",
       "      <td>1</td>\n",
       "      <td>0.975806</td>\n",
       "      <td>0.439474</td>\n",
       "    </tr>\n",
       "    <tr>\n",
       "      <th>861</th>\n",
       "      <td>1</td>\n",
       "      <td>0.989631</td>\n",
       "      <td>0.425439</td>\n",
       "    </tr>\n",
       "    <tr>\n",
       "      <th>862</th>\n",
       "      <td>1</td>\n",
       "      <td>0.996544</td>\n",
       "      <td>0.414912</td>\n",
       "    </tr>\n",
       "  </tbody>\n",
       "</table>\n",
       "</div>"
      ],
      "text/plain": [
       "     razred         a         b\n",
       "858       1  0.994240  0.516667\n",
       "859       1  0.964286  0.472807\n",
       "860       1  0.975806  0.439474\n",
       "861       1  0.989631  0.425439\n",
       "862       1  0.996544  0.414912"
      ]
     },
     "execution_count": 9,
     "metadata": {},
     "output_type": "execute_result"
    }
   ],
   "source": [
    "df[-5:]"
   ]
  },
  {
   "cell_type": "code",
   "execution_count": 10,
   "metadata": {
    "collapsed": false
   },
   "outputs": [],
   "source": [
    "clf = SVM(df, kernel='radial')"
   ]
  },
  {
   "cell_type": "code",
   "execution_count": 11,
   "metadata": {
    "collapsed": true
   },
   "outputs": [],
   "source": [
    "clf.fit_one_versus_all(C=10)"
   ]
  },
  {
   "cell_type": "code",
   "execution_count": 13,
   "metadata": {
    "collapsed": false
   },
   "outputs": [
    {
     "data": {
      "image/png": "[encoded data removed]",
      "text/plain": [
       "<matplotlib.figure.Figure at 0x1229c9940>"
      ]
     },
     "metadata": {},
     "output_type": "display_data"
    }
   ],
   "source": [
    "clf.visualize()"
   ]
  },
  {
   "cell_type": "code",
   "execution_count": null,
   "metadata": {
    "collapsed": true
   },
   "outputs": [],
   "source": []
  }
 ],
 "metadata": {
  "anaconda-cloud": {},
  "kernelspec": {
   "display_name": "Python [conda root]",
   "language": "python",
   "name": "conda-root-py"
  },
  "language_info": {
   "codemirror_mode": {
    "name": "ipython",
    "version": 3
   },
   "file_extension": ".py",
   "mimetype": "text/x-python",
   "name": "python",
   "nbconvert_exporter": "python",
   "pygments_lexer": "ipython3",
   "version": "3.5.2"
  }
 },
 "nbformat": 4,
 "nbformat_minor": 0
}
