{
 "cells": [
  {
   "cell_type": "code",
   "execution_count": null,
   "metadata": {
    "collapsed": false
   },
   "outputs": [],
   "source": [
    "import matplotlib.pyplot as plt\n",
    "from matplotlib import style\n",
    "import numpy as np\n",
    "import pandas as pd\n",
    "from cvxpy import *\n",
    "from sklearn.utils import shuffle\n",
    "\n",
    "\n",
    "style.use('ggplot')\n",
    "\n",
    "\n",
    "class SVM():\n",
    "    def __init__(self, data):\n",
    "        self.data = data.copy()\n",
    "        self.normalized_data = normalize_df(data)\n",
    "        self.maximum = np.array(self.data[df.columns.difference(['razred'])].max())\n",
    "        self.minimum = np.array(self.data[df.columns.difference(['razred'])].min())\n",
    "     \n",
    "    def fit(self, C=5):\n",
    "        data = self.normalized_data\n",
    "        X = np.array(data.drop(['razred'], 1)).astype(np.float)\n",
    "        y = np.array(data['razred']).astype(np.float)\n",
    "        self.w, self.b = self._fit(X, y, C)\n",
    "                        \n",
    "    def cross_validate(self, k=10):\n",
    "        self.split_data = split_data(self.data, k)\n",
    "        n = len(self.split_data)\n",
    "        results = []\n",
    "        tests = []\n",
    "        for i in range(n):\n",
    "            test = self.split_data[i]\n",
    "            train = [df for num, df in enumerate(self.split_data) if not num == i]\n",
    "            train = pd.concat(train)\n",
    "            test_X = normalize_01(np.array(test.drop(['razred'], 1)).astype(np.float))\n",
    "            test_y = np.array(test['razred']).astype(np.float)\n",
    "            train_X = normalize_01(np.array(train.drop(['razred'], 1)).astype(np.float))\n",
    "            train_y = np.array(train['razred']).astype(np.float)\n",
    "            w, b = self._fit(train_X, train_y)\n",
    "            accuracy = self.test(test_X, test_y, w, b)\n",
    "            results.append((w, b, accuracy))\n",
    "            tests.append(accuracy)\n",
    "        self.results = results\n",
    "        self.accuracy_test = np.array(tests)\n",
    "        self.accuracy = np.mean(self.accuracy_test)\n",
    "           \n",
    "    def predict(self, X):\n",
    "        X = (X - self.minimum) / (self.maximum - self.minimum)\n",
    "        return np.sign(np.dot(X, self.w) + self.b)\n",
    "    \n",
    "    def _predict(self, X, w, b):\n",
    "        return np.sign(np.dot(X, w) + b)\n",
    "    \n",
    "    def test(self, X, y, w, b):\n",
    "        all_instances = 0\n",
    "        correct_instances = 0\n",
    "        for index, instance in enumerate(X):\n",
    "            all_instances += 1\n",
    "            if self._predict(instance, w, b) == y[index]:\n",
    "                correct_instances += 1\n",
    "        accuracy = correct_instances/all_instances\n",
    "        return accuracy\n",
    "    \n",
    "    \n",
    "    def visualize(self):\n",
    "        if len(self.data.columns) != 3:\n",
    "            return 'Number of attribute dimensions is not 2'\n",
    "        self.fig = plt.figure()\n",
    "        self.ax = self.fig.add_subplot(1,1,1)\n",
    "        df = self.normalized_data\n",
    "        first_class = df.loc[df['razred'] == 1]\n",
    "        second_class = df.loc[df['razred'] == -1]\n",
    "        fst_att, snd_att, _ = first_class.columns\n",
    "        self.ax.scatter(first_class[fst_att], first_class[snd_att], color = 'red')\n",
    "        self.ax.scatter(second_class[fst_att], second_class[snd_att], color = 'blue')\n",
    "        \n",
    "        t = np.arange(-0.2, 1.0, 0.01)\n",
    "        s = - clf.w[0]/clf.w[1] * t - clf.b/clf.w[1]\n",
    "\n",
    "        s_plus = - clf.w[0]/clf.w[1] * t - (clf.b - 1)/clf.w[1]\n",
    "        s_minus = - clf.w[0]/clf.w[1] * t - (clf.b + 1)/clf.w[1]\n",
    "        \n",
    "        self.ax.plot(t, s, 'black')\n",
    "        self.ax.plot(t, s_plus, 'r--')\n",
    "        self.ax.plot(t, s_minus, 'b--')\n",
    "        \n",
    "        plt.show()\n",
    "        \n",
    "    def _fit(self, X, y, C=5):\n",
    "        \n",
    "        # train to get w and b for hyperplane\n",
    "        # solving optimizational problem for min ||w|| + C Sum(e_i)\n",
    "        # subject to y_i (w^t x_i + b) >= 1 - e_i and e_i >= 0 for i = 1, ... , len data[0]\n",
    "\n",
    "        n = len(X)\n",
    "        m = len(X[0])\n",
    "\n",
    "        w = Variable(m)\n",
    "        b = Variable(1)\n",
    "        e = Variable(n)\n",
    "        \n",
    "        if C == 0:\n",
    "            obj = Minimize(norm(w))\n",
    "\n",
    "            constraints = []\n",
    "\n",
    "            for i in range(n):\n",
    "                constraints.append(1 - y[i] * (w.T * X[i] + b) <= 0)\n",
    "\n",
    "            prob = Problem(obj, constraints)\n",
    "            prob.solve()\n",
    "\n",
    "            w = np.squeeze(np.asarray(w.T.value))\n",
    "            b = b.value        \n",
    "            return (w, b)\n",
    "        \n",
    "        obj = Minimize(norm(w) + C * sum_entries(e))\n",
    "\n",
    "        constraints = [e >= 0]\n",
    "\n",
    "        for i in range(n):\n",
    "            constraints.append(1 - e[i]- y[i] * (w.T * X[i] + b) <= 0)\n",
    "\n",
    "        prob = Problem(obj, constraints)\n",
    "        prob.solve()\n",
    "\n",
    "        w = np.squeeze(np.asarray(w.T.value))\n",
    "        b = b.value        \n",
    "        return (w, b)\n",
    "        \n",
    "    \n",
    "\n",
    "def normalize_df(df):\n",
    "    df[df.columns.difference(['razred'])] = df[df.columns.difference(['razred'])].apply(lambda x: (x - x.min()) / (x.max() - x.min()))\n",
    "    return df    \n",
    "    \n",
    "def normalize_01(X):\n",
    "    X_normed = (X - X.min(0)) / X.ptp(0)\n",
    "    return X_normed\n",
    "    \n",
    "def split_data(data, k=10):\n",
    "    '''\n",
    "    :param data:\n",
    "    :param k:\n",
    "    :return:\n",
    "    '''\n",
    "    data = shuffle(data)\n",
    "    data.reset_index(drop=True,inplace=True)\n",
    "    split_data = partition(data, k)\n",
    "    return split_data\n",
    "        \n",
    "def partition(lst, n):\n",
    "    '''\n",
    "    :param lst: array of elemnts\n",
    "    :param n: number of partitions\n",
    "    :return: array partitioned into n arrays\n",
    "    '''\n",
    "    division = len(lst) / n\n",
    "    return [lst[round(division * i):round(division * (i + 1))] for i in range(n)]\n",
    "\n",
    "\n",
    "\n",
    "# df = pd.read_csv('breast-cancer-wisconsin.data.txt')\n",
    "# df.replace('?', -99, inplace=True)\n",
    "# df.drop(['id'], 1, inplace=True)\n",
    "# df[['bare_nuclei']] = df[['bare_nuclei']].astype(float)\n",
    "#df.rename(columns={'class': 'razred'}, inplace=True)\n",
    "\n",
    "# df.loc[df['razred'] == 2, 'razred'] = 1\n",
    "# df.loc[df['razred'] == 4, 'razred'] = -1\n",
    "\n",
    "\n",
    "# X = df.drop(['razred'], 1)\n",
    "# y = df['razred']\n",
    "\n",
    "# X = np.array(X).astype(np.float)\n",
    "\n",
    "\n",
    "# clf = SVM(df)\n",
    "\n",
    "# clf.cross_validate()\n",
    "\n",
    "#################################\n",
    "\n",
    "# df = pd.read_csv('bezdekIris.txt', sep=\",\", header=None)\n",
    "# df.columns = ['sepal_length', 'sepal_width', 'petal_length', 'petal_width', 'razred' ]\n",
    "\n",
    "# df = df[df.razred != 'Iris-versicolor']\n",
    "\n",
    "\n",
    "# df.replace({'Iris-setosa': 1, 'Iris-virginica': -1,}, inplace=True)\n",
    "# df.reset_index()\n",
    "\n",
    "\n",
    "# df.drop(['petal_length', 'petal_width'], 1, inplace=True)\n",
    "\n",
    "# # X = df.drop(['razred'], 1)\n",
    "# # y = df['razred']\n",
    "\n",
    "# # X = np.array(X).astype(np.float)\n",
    "# # y = np.array(y).astype(np.float)\n",
    "\n",
    "\n",
    "# clf = SVM(df)\n",
    "\n",
    "# clf.cross_validate()\n",
    "\n",
    "\n",
    "###################################\n",
    "\n",
    "# df = pd.read_csv('bezdekIris.txt', sep=\",\", header=None)\n",
    "# df.columns = ['sepal_length', 'sepal_width', 'petal_length', 'petal_width', 'razred' ]\n",
    "\n",
    "# df = df[df.razred != 'Iris-setosa']\n",
    "\n",
    "\n",
    "# df.replace({'Iris-versicolor': 1, 'Iris-virginica': -1,}, inplace=True)\n",
    "# df.reset_index()\n",
    "\n",
    "\n",
    "# df.drop(['petal_length', 'petal_width'], 1, inplace=True)\n",
    "\n",
    "# X = df.drop(['razred'], 1)\n",
    "# y = df['razred']\n",
    "\n",
    "# X = np.array(X).astype(np.float)\n",
    "# y = np.array(y).astype(np.float)\n",
    "\n",
    "\n",
    "# clf = SVM(df)\n",
    "\n",
    "# clf.cross_validate()\n",
    "\n",
    "####################################\n",
    "\n",
    "# df = pd.read_csv('bezdekIris.txt', sep=\",\", header=None)\n",
    "# df.columns = ['sepal_length', 'sepal_width', 'petal_length', 'petal_width', 'razred' ]\n",
    "\n",
    "# df = df[df.razred != 'Iris-virginica']\n",
    "\n",
    "\n",
    "# df.replace({'Iris-setosa': 1, 'Iris-versicolor': -1,}, inplace=True)\n",
    "# df.reset_index()\n",
    "\n",
    "\n",
    "# df.drop(['petal_length', 'petal_width'], 1, inplace=True)\n",
    "\n",
    "\n",
    "# clf = SVM(df)\n",
    "\n",
    "# clf.cross_validate()\n"
   ]
  },
  {
   "cell_type": "code",
   "execution_count": null,
   "metadata": {
    "collapsed": false
   },
   "outputs": [],
   "source": [
    "df = pd.read_csv('bezdekIris.txt', sep=\",\", header=None)\n",
    "df.columns = ['dolzina_casnega_lista', 'sirina_casnega_lista', 'dolzina_vencnega_lista', 'sirina_vencnega_lista', 'razred' ]\n",
    "df = shuffle(df)\n",
    "df.reset_index(drop=True,inplace=True)\n",
    "df.reset_index(drop=True,inplace=True)\n",
    "df[:10]"
   ]
  },
  {
   "cell_type": "code",
   "execution_count": null,
   "metadata": {
    "collapsed": false
   },
   "outputs": [],
   "source": [
    "df = df[df.razred != 'Iris-virginica']\n",
    "df.replace({'Iris-setosa': 1, 'Iris-versicolor': -1,}, inplace=True)\n",
    "df.drop(['dolzina_vencnega_lista', 'sirina_vencnega_lista'], 1, inplace=True)\n",
    "df.reset_index()\n",
    "df[:10]"
   ]
  },
  {
   "cell_type": "code",
   "execution_count": null,
   "metadata": {
    "collapsed": true
   },
   "outputs": [],
   "source": [
    "clf = SVM(df)"
   ]
  },
  {
   "cell_type": "code",
   "execution_count": null,
   "metadata": {
    "collapsed": false
   },
   "outputs": [],
   "source": [
    "clf.fit()"
   ]
  },
  {
   "cell_type": "code",
   "execution_count": null,
   "metadata": {
    "collapsed": false,
    "scrolled": true
   },
   "outputs": [],
   "source": [
    "clf.visualize()"
   ]
  },
  {
   "cell_type": "code",
   "execution_count": null,
   "metadata": {
    "collapsed": false
   },
   "outputs": [],
   "source": [
    "clf.cross_validate()"
   ]
  },
  {
   "cell_type": "code",
   "execution_count": null,
   "metadata": {
    "collapsed": false
   },
   "outputs": [],
   "source": [
    "clf.accuracy"
   ]
  },
  {
   "cell_type": "code",
   "execution_count": null,
   "metadata": {
    "collapsed": false
   },
   "outputs": [],
   "source": [
    "clf.predict([6.0,3.0])"
   ]
  },
  {
   "cell_type": "code",
   "execution_count": null,
   "metadata": {
    "collapsed": false
   },
   "outputs": [],
   "source": [
    "df = pd.read_csv('breast-cancer-wisconsin.data.txt')\n",
    "df.replace('?', -99, inplace=True)\n",
    "df.drop(['id'], 1, inplace=True)\n",
    "df[['bare_nuclei']] = df[['bare_nuclei']].astype(float)\n",
    "df.rename(columns={'class': 'razred'}, inplace=True)\n",
    "df.loc[df['razred'] == 2, 'razred'] = 1\n",
    "df.loc[df['razred'] == 4, 'razred'] = -1\n",
    "df[:10]"
   ]
  },
  {
   "cell_type": "code",
   "execution_count": null,
   "metadata": {
    "collapsed": false
   },
   "outputs": [],
   "source": [
    "clf = SVM(df)"
   ]
  },
  {
   "cell_type": "code",
   "execution_count": null,
   "metadata": {
    "collapsed": false
   },
   "outputs": [],
   "source": [
    "clf.fit()"
   ]
  },
  {
   "cell_type": "code",
   "execution_count": null,
   "metadata": {
    "collapsed": true
   },
   "outputs": [],
   "source": [
    "clf.cross_validate()"
   ]
  },
  {
   "cell_type": "code",
   "execution_count": null,
   "metadata": {
    "collapsed": false
   },
   "outputs": [],
   "source": [
    "clf.accuracy"
   ]
  },
  {
   "cell_type": "code",
   "execution_count": null,
   "metadata": {
    "collapsed": false
   },
   "outputs": [],
   "source": [
    "clf.predict([5, 4, 4, 5, 7, 10, 3, 2, 1])"
   ]
  },
  {
   "cell_type": "code",
   "execution_count": null,
   "metadata": {
    "collapsed": true
   },
   "outputs": [],
   "source": [
    "df = pd.read_csv('bezdekIris.txt', sep=\",\", header=None)\n",
    "df.columns = ['sepal_length', 'sepal_width', 'petal_length', 'petal_width', 'razred' ]\n",
    "\n",
    "df = df[df.razred != 'Iris-setosa']\n",
    "\n",
    "\n",
    "df.replace({'Iris-versicolor': 1, 'Iris-virginica': -1,}, inplace=True)\n",
    "df.reset_index()\n",
    "\n",
    "\n",
    "df.drop(['petal_length', 'petal_width'], 1, inplace=True)\n",
    "\n",
    "\n",
    "clf = SVM(df)\n",
    "clf.fit()\n",
    "clf.cross_validate()"
   ]
  },
  {
   "cell_type": "code",
   "execution_count": null,
   "metadata": {
    "collapsed": false
   },
   "outputs": [],
   "source": [
    "clf.visualize()"
   ]
  },
  {
   "cell_type": "code",
   "execution_count": null,
   "metadata": {
    "collapsed": false
   },
   "outputs": [],
   "source": [
    "clf.accuracy"
   ]
  },
  {
   "cell_type": "code",
   "execution_count": null,
   "metadata": {
    "collapsed": true
   },
   "outputs": [],
   "source": []
  }
 ],
 "metadata": {
  "anaconda-cloud": {},
  "kernelspec": {
   "display_name": "Python [conda root]",
   "language": "python",
   "name": "conda-root-py"
  },
  "language_info": {
   "codemirror_mode": {
    "name": "ipython",
    "version": 3
   },
   "file_extension": ".py",
   "mimetype": "text/x-python",
   "name": "python",
   "nbconvert_exporter": "python",
   "pygments_lexer": "ipython3",
   "version": "3.5.2"
  }
 },
 "nbformat": 4,
 "nbformat_minor": 0
}
